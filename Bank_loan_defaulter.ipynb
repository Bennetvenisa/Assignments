{
 "cells": [
  {
   "cell_type": "markdown",
   "metadata": {},
   "source": [
    "# Bank Loan Deafaulter Detection"
   ]
  },
  {
   "cell_type": "markdown",
   "metadata": {},
   "source": []
  },
  {
   "cell_type": "markdown",
   "metadata": {},
   "source": [
    "Lets start with importing the necessary libraries"
   ]
  },
  {
   "cell_type": "code",
   "execution_count": 1,
   "metadata": {},
   "outputs": [],
   "source": [
    "import pandas as pd\n",
    "import numpy as np\n",
    "import matplotlib.pyplot as plt\n",
    "%matplotlib inline\n",
    "import seaborn as sns\n",
    "colour=sns.color_palette()"
   ]
  },
  {
   "cell_type": "code",
   "execution_count": 5,
   "metadata": {},
   "outputs": [],
   "source": [
    "df=pd.read_excel('D:\\\\Datascience\\\\bank loan risk- aap\\\\loan.xlsx')"
   ]
  },
  {
   "cell_type": "code",
   "execution_count": 25,
   "metadata": {},
   "outputs": [
    {
     "name": "stdout",
     "output_type": "stream",
     "text": [
      "(39717, 37)\n"
     ]
    }
   ],
   "source": [
    "print(df.shape)"
   ]
  },
  {
   "cell_type": "code",
   "execution_count": 7,
   "metadata": {},
   "outputs": [
    {
     "data": {
      "text/html": [
       "<div>\n",
       "<style scoped>\n",
       "    .dataframe tbody tr th:only-of-type {\n",
       "        vertical-align: middle;\n",
       "    }\n",
       "\n",
       "    .dataframe tbody tr th {\n",
       "        vertical-align: top;\n",
       "    }\n",
       "\n",
       "    .dataframe thead th {\n",
       "        text-align: right;\n",
       "    }\n",
       "</style>\n",
       "<table border=\"1\" class=\"dataframe\">\n",
       "  <thead>\n",
       "    <tr style=\"text-align: right;\">\n",
       "      <th></th>\n",
       "      <th>id</th>\n",
       "      <th>member_id</th>\n",
       "      <th>loan_amnt</th>\n",
       "      <th>funded_amnt</th>\n",
       "      <th>funded_amnt_inv</th>\n",
       "      <th>term</th>\n",
       "      <th>int_rate</th>\n",
       "      <th>installment</th>\n",
       "      <th>grade</th>\n",
       "      <th>sub_grade</th>\n",
       "      <th>emp_length</th>\n",
       "      <th>home_ownership</th>\n",
       "      <th>annual_inc</th>\n",
       "      <th>verification_status</th>\n",
       "      <th>issue_d</th>\n",
       "      <th>loan_status</th>\n",
       "      <th>dti</th>\n",
       "      <th>delinq_2yrs</th>\n",
       "      <th>earliest_cr_line</th>\n",
       "      <th>inq_last_6mths</th>\n",
       "      <th>mths_since_last_delinq</th>\n",
       "      <th>mths_since_last_record</th>\n",
       "      <th>open_acc</th>\n",
       "      <th>pub_rec</th>\n",
       "      <th>revol_bal</th>\n",
       "      <th>revol_util</th>\n",
       "      <th>total_acc</th>\n",
       "      <th>out_prncp</th>\n",
       "      <th>out_prncp_inv</th>\n",
       "      <th>total_pymnt</th>\n",
       "      <th>total_pymnt_inv</th>\n",
       "      <th>total_rec_prncp</th>\n",
       "      <th>total_rec_int</th>\n",
       "      <th>total_rec_late_fee</th>\n",
       "      <th>recoveries</th>\n",
       "      <th>collection_recovery_fee</th>\n",
       "      <th>last_pymnt_d</th>\n",
       "      <th>last_pymnt_amnt</th>\n",
       "      <th>next_pymnt_d</th>\n",
       "      <th>last_credit_pull_d</th>\n",
       "      <th>pub_rec_bankruptcies</th>\n",
       "    </tr>\n",
       "  </thead>\n",
       "  <tbody>\n",
       "    <tr>\n",
       "      <td>0</td>\n",
       "      <td>1077501</td>\n",
       "      <td>1296599</td>\n",
       "      <td>5000</td>\n",
       "      <td>5000</td>\n",
       "      <td>4975.0</td>\n",
       "      <td>36 months</td>\n",
       "      <td>0.1065</td>\n",
       "      <td>162.87</td>\n",
       "      <td>B</td>\n",
       "      <td>B2</td>\n",
       "      <td>10+ years</td>\n",
       "      <td>RENT</td>\n",
       "      <td>24000.0</td>\n",
       "      <td>Verified</td>\n",
       "      <td>2011-12-01</td>\n",
       "      <td>Fully Paid</td>\n",
       "      <td>27.65</td>\n",
       "      <td>0</td>\n",
       "      <td>1985-01-01</td>\n",
       "      <td>1</td>\n",
       "      <td>NaN</td>\n",
       "      <td>NaN</td>\n",
       "      <td>3</td>\n",
       "      <td>0</td>\n",
       "      <td>13648</td>\n",
       "      <td>0.837</td>\n",
       "      <td>9</td>\n",
       "      <td>0.00</td>\n",
       "      <td>0.00</td>\n",
       "      <td>5863.155187</td>\n",
       "      <td>5833.84</td>\n",
       "      <td>5000.00</td>\n",
       "      <td>863.16</td>\n",
       "      <td>0.00</td>\n",
       "      <td>0.00</td>\n",
       "      <td>0.00</td>\n",
       "      <td>2015-01-01</td>\n",
       "      <td>171.62</td>\n",
       "      <td>NaT</td>\n",
       "      <td>2016-05-01</td>\n",
       "      <td>0.0</td>\n",
       "    </tr>\n",
       "    <tr>\n",
       "      <td>1</td>\n",
       "      <td>1077430</td>\n",
       "      <td>1314167</td>\n",
       "      <td>2500</td>\n",
       "      <td>2500</td>\n",
       "      <td>2500.0</td>\n",
       "      <td>60 months</td>\n",
       "      <td>0.1527</td>\n",
       "      <td>59.83</td>\n",
       "      <td>C</td>\n",
       "      <td>C4</td>\n",
       "      <td>&lt; 1 year</td>\n",
       "      <td>RENT</td>\n",
       "      <td>30000.0</td>\n",
       "      <td>Source Verified</td>\n",
       "      <td>2011-12-01</td>\n",
       "      <td>Charged Off</td>\n",
       "      <td>1.00</td>\n",
       "      <td>0</td>\n",
       "      <td>1999-04-01</td>\n",
       "      <td>5</td>\n",
       "      <td>NaN</td>\n",
       "      <td>NaN</td>\n",
       "      <td>3</td>\n",
       "      <td>0</td>\n",
       "      <td>1687</td>\n",
       "      <td>0.094</td>\n",
       "      <td>4</td>\n",
       "      <td>0.00</td>\n",
       "      <td>0.00</td>\n",
       "      <td>1008.710000</td>\n",
       "      <td>1008.71</td>\n",
       "      <td>456.46</td>\n",
       "      <td>435.17</td>\n",
       "      <td>0.00</td>\n",
       "      <td>117.08</td>\n",
       "      <td>1.11</td>\n",
       "      <td>2013-04-01</td>\n",
       "      <td>119.66</td>\n",
       "      <td>NaT</td>\n",
       "      <td>2013-09-01</td>\n",
       "      <td>0.0</td>\n",
       "    </tr>\n",
       "    <tr>\n",
       "      <td>2</td>\n",
       "      <td>1077175</td>\n",
       "      <td>1313524</td>\n",
       "      <td>2400</td>\n",
       "      <td>2400</td>\n",
       "      <td>2400.0</td>\n",
       "      <td>36 months</td>\n",
       "      <td>0.1596</td>\n",
       "      <td>84.33</td>\n",
       "      <td>C</td>\n",
       "      <td>C5</td>\n",
       "      <td>10+ years</td>\n",
       "      <td>RENT</td>\n",
       "      <td>12252.0</td>\n",
       "      <td>Not Verified</td>\n",
       "      <td>2011-12-01</td>\n",
       "      <td>Fully Paid</td>\n",
       "      <td>8.72</td>\n",
       "      <td>0</td>\n",
       "      <td>2001-11-01</td>\n",
       "      <td>2</td>\n",
       "      <td>NaN</td>\n",
       "      <td>NaN</td>\n",
       "      <td>2</td>\n",
       "      <td>0</td>\n",
       "      <td>2956</td>\n",
       "      <td>0.985</td>\n",
       "      <td>10</td>\n",
       "      <td>0.00</td>\n",
       "      <td>0.00</td>\n",
       "      <td>3005.666844</td>\n",
       "      <td>3005.67</td>\n",
       "      <td>2400.00</td>\n",
       "      <td>605.67</td>\n",
       "      <td>0.00</td>\n",
       "      <td>0.00</td>\n",
       "      <td>0.00</td>\n",
       "      <td>2014-06-01</td>\n",
       "      <td>649.91</td>\n",
       "      <td>NaT</td>\n",
       "      <td>2016-05-01</td>\n",
       "      <td>0.0</td>\n",
       "    </tr>\n",
       "    <tr>\n",
       "      <td>3</td>\n",
       "      <td>1076863</td>\n",
       "      <td>1277178</td>\n",
       "      <td>10000</td>\n",
       "      <td>10000</td>\n",
       "      <td>10000.0</td>\n",
       "      <td>36 months</td>\n",
       "      <td>0.1349</td>\n",
       "      <td>339.31</td>\n",
       "      <td>C</td>\n",
       "      <td>C1</td>\n",
       "      <td>10+ years</td>\n",
       "      <td>RENT</td>\n",
       "      <td>49200.0</td>\n",
       "      <td>Source Verified</td>\n",
       "      <td>2011-12-01</td>\n",
       "      <td>Fully Paid</td>\n",
       "      <td>20.00</td>\n",
       "      <td>0</td>\n",
       "      <td>1996-02-01</td>\n",
       "      <td>1</td>\n",
       "      <td>35.0</td>\n",
       "      <td>NaN</td>\n",
       "      <td>10</td>\n",
       "      <td>0</td>\n",
       "      <td>5598</td>\n",
       "      <td>0.210</td>\n",
       "      <td>37</td>\n",
       "      <td>0.00</td>\n",
       "      <td>0.00</td>\n",
       "      <td>12231.890000</td>\n",
       "      <td>12231.89</td>\n",
       "      <td>10000.00</td>\n",
       "      <td>2214.92</td>\n",
       "      <td>16.97</td>\n",
       "      <td>0.00</td>\n",
       "      <td>0.00</td>\n",
       "      <td>2015-01-01</td>\n",
       "      <td>357.48</td>\n",
       "      <td>NaT</td>\n",
       "      <td>2016-04-01</td>\n",
       "      <td>0.0</td>\n",
       "    </tr>\n",
       "    <tr>\n",
       "      <td>4</td>\n",
       "      <td>1075358</td>\n",
       "      <td>1311748</td>\n",
       "      <td>3000</td>\n",
       "      <td>3000</td>\n",
       "      <td>3000.0</td>\n",
       "      <td>60 months</td>\n",
       "      <td>0.1269</td>\n",
       "      <td>67.79</td>\n",
       "      <td>B</td>\n",
       "      <td>B5</td>\n",
       "      <td>1 year</td>\n",
       "      <td>RENT</td>\n",
       "      <td>80000.0</td>\n",
       "      <td>Source Verified</td>\n",
       "      <td>2011-12-01</td>\n",
       "      <td>Current</td>\n",
       "      <td>17.94</td>\n",
       "      <td>0</td>\n",
       "      <td>1996-01-01</td>\n",
       "      <td>0</td>\n",
       "      <td>38.0</td>\n",
       "      <td>NaN</td>\n",
       "      <td>15</td>\n",
       "      <td>0</td>\n",
       "      <td>27783</td>\n",
       "      <td>0.539</td>\n",
       "      <td>38</td>\n",
       "      <td>524.06</td>\n",
       "      <td>524.06</td>\n",
       "      <td>3513.330000</td>\n",
       "      <td>3513.33</td>\n",
       "      <td>2475.94</td>\n",
       "      <td>1037.39</td>\n",
       "      <td>0.00</td>\n",
       "      <td>0.00</td>\n",
       "      <td>0.00</td>\n",
       "      <td>2016-05-01</td>\n",
       "      <td>67.79</td>\n",
       "      <td>2016-06-01</td>\n",
       "      <td>2016-05-01</td>\n",
       "      <td>0.0</td>\n",
       "    </tr>\n",
       "  </tbody>\n",
       "</table>\n",
       "</div>"
      ],
      "text/plain": [
       "        id  member_id  loan_amnt  funded_amnt  funded_amnt_inv        term  \\\n",
       "0  1077501    1296599       5000         5000           4975.0   36 months   \n",
       "1  1077430    1314167       2500         2500           2500.0   60 months   \n",
       "2  1077175    1313524       2400         2400           2400.0   36 months   \n",
       "3  1076863    1277178      10000        10000          10000.0   36 months   \n",
       "4  1075358    1311748       3000         3000           3000.0   60 months   \n",
       "\n",
       "   int_rate  installment grade sub_grade emp_length home_ownership  \\\n",
       "0    0.1065       162.87     B        B2  10+ years           RENT   \n",
       "1    0.1527        59.83     C        C4   < 1 year           RENT   \n",
       "2    0.1596        84.33     C        C5  10+ years           RENT   \n",
       "3    0.1349       339.31     C        C1  10+ years           RENT   \n",
       "4    0.1269        67.79     B        B5     1 year           RENT   \n",
       "\n",
       "   annual_inc verification_status    issue_d  loan_status    dti  delinq_2yrs  \\\n",
       "0     24000.0            Verified 2011-12-01   Fully Paid  27.65            0   \n",
       "1     30000.0     Source Verified 2011-12-01  Charged Off   1.00            0   \n",
       "2     12252.0        Not Verified 2011-12-01   Fully Paid   8.72            0   \n",
       "3     49200.0     Source Verified 2011-12-01   Fully Paid  20.00            0   \n",
       "4     80000.0     Source Verified 2011-12-01      Current  17.94            0   \n",
       "\n",
       "  earliest_cr_line  inq_last_6mths  mths_since_last_delinq  \\\n",
       "0       1985-01-01               1                     NaN   \n",
       "1       1999-04-01               5                     NaN   \n",
       "2       2001-11-01               2                     NaN   \n",
       "3       1996-02-01               1                    35.0   \n",
       "4       1996-01-01               0                    38.0   \n",
       "\n",
       "   mths_since_last_record  open_acc  pub_rec  revol_bal  revol_util  \\\n",
       "0                     NaN         3        0      13648       0.837   \n",
       "1                     NaN         3        0       1687       0.094   \n",
       "2                     NaN         2        0       2956       0.985   \n",
       "3                     NaN        10        0       5598       0.210   \n",
       "4                     NaN        15        0      27783       0.539   \n",
       "\n",
       "   total_acc  out_prncp  out_prncp_inv   total_pymnt  total_pymnt_inv  \\\n",
       "0          9       0.00           0.00   5863.155187          5833.84   \n",
       "1          4       0.00           0.00   1008.710000          1008.71   \n",
       "2         10       0.00           0.00   3005.666844          3005.67   \n",
       "3         37       0.00           0.00  12231.890000         12231.89   \n",
       "4         38     524.06         524.06   3513.330000          3513.33   \n",
       "\n",
       "   total_rec_prncp  total_rec_int  total_rec_late_fee  recoveries  \\\n",
       "0          5000.00         863.16                0.00        0.00   \n",
       "1           456.46         435.17                0.00      117.08   \n",
       "2          2400.00         605.67                0.00        0.00   \n",
       "3         10000.00        2214.92               16.97        0.00   \n",
       "4          2475.94        1037.39                0.00        0.00   \n",
       "\n",
       "   collection_recovery_fee last_pymnt_d  last_pymnt_amnt next_pymnt_d  \\\n",
       "0                     0.00   2015-01-01           171.62          NaT   \n",
       "1                     1.11   2013-04-01           119.66          NaT   \n",
       "2                     0.00   2014-06-01           649.91          NaT   \n",
       "3                     0.00   2015-01-01           357.48          NaT   \n",
       "4                     0.00   2016-05-01            67.79   2016-06-01   \n",
       "\n",
       "  last_credit_pull_d  pub_rec_bankruptcies  \n",
       "0         2016-05-01                   0.0  \n",
       "1         2013-09-01                   0.0  \n",
       "2         2016-05-01                   0.0  \n",
       "3         2016-04-01                   0.0  \n",
       "4         2016-05-01                   0.0  "
      ]
     },
     "execution_count": 7,
     "metadata": {},
     "output_type": "execute_result"
    }
   ],
   "source": [
    "pd.set_option('display.max_columns',50)\n",
    "df.head()"
   ]
  },
  {
   "cell_type": "code",
   "execution_count": 8,
   "metadata": {},
   "outputs": [
    {
     "name": "stdout",
     "output_type": "stream",
     "text": [
      "<class 'pandas.core.frame.DataFrame'>\n",
      "RangeIndex: 39717 entries, 0 to 39716\n",
      "Data columns (total 41 columns):\n",
      "id                         39717 non-null int64\n",
      "member_id                  39717 non-null int64\n",
      "loan_amnt                  39717 non-null int64\n",
      "funded_amnt                39717 non-null int64\n",
      "funded_amnt_inv            39717 non-null float64\n",
      "term                       39717 non-null object\n",
      "int_rate                   39717 non-null float64\n",
      "installment                39717 non-null float64\n",
      "grade                      39717 non-null object\n",
      "sub_grade                  39717 non-null object\n",
      "emp_length                 38642 non-null object\n",
      "home_ownership             39717 non-null object\n",
      "annual_inc                 39717 non-null float64\n",
      "verification_status        39717 non-null object\n",
      "issue_d                    39717 non-null datetime64[ns]\n",
      "loan_status                39717 non-null object\n",
      "dti                        39717 non-null float64\n",
      "delinq_2yrs                39717 non-null int64\n",
      "earliest_cr_line           39717 non-null datetime64[ns]\n",
      "inq_last_6mths             39717 non-null int64\n",
      "mths_since_last_delinq     14035 non-null float64\n",
      "mths_since_last_record     2786 non-null float64\n",
      "open_acc                   39717 non-null int64\n",
      "pub_rec                    39717 non-null int64\n",
      "revol_bal                  39717 non-null int64\n",
      "revol_util                 39667 non-null float64\n",
      "total_acc                  39717 non-null int64\n",
      "out_prncp                  39717 non-null float64\n",
      "out_prncp_inv              39717 non-null float64\n",
      "total_pymnt                39717 non-null float64\n",
      "total_pymnt_inv            39717 non-null float64\n",
      "total_rec_prncp            39717 non-null float64\n",
      "total_rec_int              39717 non-null float64\n",
      "total_rec_late_fee         39717 non-null float64\n",
      "recoveries                 39717 non-null float64\n",
      "collection_recovery_fee    39717 non-null float64\n",
      "last_pymnt_d               39646 non-null datetime64[ns]\n",
      "last_pymnt_amnt            39717 non-null float64\n",
      "next_pymnt_d               1140 non-null datetime64[ns]\n",
      "last_credit_pull_d         39715 non-null datetime64[ns]\n",
      "pub_rec_bankruptcies       39020 non-null float64\n",
      "dtypes: datetime64[ns](5), float64(19), int64(10), object(7)\n",
      "memory usage: 12.4+ MB\n"
     ]
    }
   ],
   "source": [
    "df.info()"
   ]
  },
  {
   "cell_type": "code",
   "execution_count": 9,
   "metadata": {},
   "outputs": [
    {
     "data": {
      "text/plain": [
       "array(['Fully Paid', 'Charged Off', 'Current'], dtype=object)"
      ]
     },
     "execution_count": 9,
     "metadata": {},
     "output_type": "execute_result"
    }
   ],
   "source": [
    "df['loan_status'].unique()"
   ]
  },
  {
   "cell_type": "code",
   "execution_count": 10,
   "metadata": {},
   "outputs": [
    {
     "data": {
      "text/html": [
       "<div>\n",
       "<style scoped>\n",
       "    .dataframe tbody tr th:only-of-type {\n",
       "        vertical-align: middle;\n",
       "    }\n",
       "\n",
       "    .dataframe tbody tr th {\n",
       "        vertical-align: top;\n",
       "    }\n",
       "\n",
       "    .dataframe thead th {\n",
       "        text-align: right;\n",
       "    }\n",
       "</style>\n",
       "<table border=\"1\" class=\"dataframe\">\n",
       "  <thead>\n",
       "    <tr style=\"text-align: right;\">\n",
       "      <th></th>\n",
       "      <th>count</th>\n",
       "      <th>mean</th>\n",
       "      <th>std</th>\n",
       "      <th>min</th>\n",
       "      <th>25%</th>\n",
       "      <th>50%</th>\n",
       "      <th>75%</th>\n",
       "      <th>max</th>\n",
       "    </tr>\n",
       "  </thead>\n",
       "  <tbody>\n",
       "    <tr>\n",
       "      <td>id</td>\n",
       "      <td>39717.0</td>\n",
       "      <td>683131.913060</td>\n",
       "      <td>210694.132915</td>\n",
       "      <td>54734.0000</td>\n",
       "      <td>516221.0000</td>\n",
       "      <td>665665.000000</td>\n",
       "      <td>8.377550e+05</td>\n",
       "      <td>1.077501e+06</td>\n",
       "    </tr>\n",
       "    <tr>\n",
       "      <td>member_id</td>\n",
       "      <td>39717.0</td>\n",
       "      <td>850463.559408</td>\n",
       "      <td>265678.307421</td>\n",
       "      <td>70699.0000</td>\n",
       "      <td>666780.0000</td>\n",
       "      <td>850812.000000</td>\n",
       "      <td>1.047339e+06</td>\n",
       "      <td>1.314167e+06</td>\n",
       "    </tr>\n",
       "    <tr>\n",
       "      <td>loan_amnt</td>\n",
       "      <td>39717.0</td>\n",
       "      <td>11219.443815</td>\n",
       "      <td>7456.670694</td>\n",
       "      <td>500.0000</td>\n",
       "      <td>5500.0000</td>\n",
       "      <td>10000.000000</td>\n",
       "      <td>1.500000e+04</td>\n",
       "      <td>3.500000e+04</td>\n",
       "    </tr>\n",
       "    <tr>\n",
       "      <td>funded_amnt</td>\n",
       "      <td>39717.0</td>\n",
       "      <td>10947.713196</td>\n",
       "      <td>7187.238670</td>\n",
       "      <td>500.0000</td>\n",
       "      <td>5400.0000</td>\n",
       "      <td>9600.000000</td>\n",
       "      <td>1.500000e+04</td>\n",
       "      <td>3.500000e+04</td>\n",
       "    </tr>\n",
       "    <tr>\n",
       "      <td>funded_amnt_inv</td>\n",
       "      <td>39717.0</td>\n",
       "      <td>10397.448868</td>\n",
       "      <td>7128.450439</td>\n",
       "      <td>0.0000</td>\n",
       "      <td>5000.0000</td>\n",
       "      <td>8975.000000</td>\n",
       "      <td>1.440000e+04</td>\n",
       "      <td>3.500000e+04</td>\n",
       "    </tr>\n",
       "    <tr>\n",
       "      <td>int_rate</td>\n",
       "      <td>39717.0</td>\n",
       "      <td>0.120212</td>\n",
       "      <td>0.037248</td>\n",
       "      <td>0.0542</td>\n",
       "      <td>0.0925</td>\n",
       "      <td>0.118600</td>\n",
       "      <td>1.459000e-01</td>\n",
       "      <td>2.459000e-01</td>\n",
       "    </tr>\n",
       "    <tr>\n",
       "      <td>installment</td>\n",
       "      <td>39717.0</td>\n",
       "      <td>324.561922</td>\n",
       "      <td>208.874874</td>\n",
       "      <td>15.6900</td>\n",
       "      <td>167.0200</td>\n",
       "      <td>280.220000</td>\n",
       "      <td>4.307800e+02</td>\n",
       "      <td>1.305190e+03</td>\n",
       "    </tr>\n",
       "    <tr>\n",
       "      <td>annual_inc</td>\n",
       "      <td>39717.0</td>\n",
       "      <td>68968.926377</td>\n",
       "      <td>63793.765790</td>\n",
       "      <td>4000.0000</td>\n",
       "      <td>40404.0000</td>\n",
       "      <td>59000.000000</td>\n",
       "      <td>8.230000e+04</td>\n",
       "      <td>6.000000e+06</td>\n",
       "    </tr>\n",
       "    <tr>\n",
       "      <td>dti</td>\n",
       "      <td>39717.0</td>\n",
       "      <td>13.315130</td>\n",
       "      <td>6.678594</td>\n",
       "      <td>0.0000</td>\n",
       "      <td>8.1700</td>\n",
       "      <td>13.400000</td>\n",
       "      <td>1.860000e+01</td>\n",
       "      <td>2.999000e+01</td>\n",
       "    </tr>\n",
       "    <tr>\n",
       "      <td>delinq_2yrs</td>\n",
       "      <td>39717.0</td>\n",
       "      <td>0.146512</td>\n",
       "      <td>0.491812</td>\n",
       "      <td>0.0000</td>\n",
       "      <td>0.0000</td>\n",
       "      <td>0.000000</td>\n",
       "      <td>0.000000e+00</td>\n",
       "      <td>1.100000e+01</td>\n",
       "    </tr>\n",
       "    <tr>\n",
       "      <td>inq_last_6mths</td>\n",
       "      <td>39717.0</td>\n",
       "      <td>0.869200</td>\n",
       "      <td>1.070219</td>\n",
       "      <td>0.0000</td>\n",
       "      <td>0.0000</td>\n",
       "      <td>1.000000</td>\n",
       "      <td>1.000000e+00</td>\n",
       "      <td>8.000000e+00</td>\n",
       "    </tr>\n",
       "    <tr>\n",
       "      <td>mths_since_last_delinq</td>\n",
       "      <td>14035.0</td>\n",
       "      <td>35.900962</td>\n",
       "      <td>22.020060</td>\n",
       "      <td>0.0000</td>\n",
       "      <td>18.0000</td>\n",
       "      <td>34.000000</td>\n",
       "      <td>5.200000e+01</td>\n",
       "      <td>1.200000e+02</td>\n",
       "    </tr>\n",
       "    <tr>\n",
       "      <td>mths_since_last_record</td>\n",
       "      <td>2786.0</td>\n",
       "      <td>69.698134</td>\n",
       "      <td>43.822529</td>\n",
       "      <td>0.0000</td>\n",
       "      <td>22.0000</td>\n",
       "      <td>90.000000</td>\n",
       "      <td>1.040000e+02</td>\n",
       "      <td>1.290000e+02</td>\n",
       "    </tr>\n",
       "    <tr>\n",
       "      <td>open_acc</td>\n",
       "      <td>39717.0</td>\n",
       "      <td>9.294408</td>\n",
       "      <td>4.400282</td>\n",
       "      <td>2.0000</td>\n",
       "      <td>6.0000</td>\n",
       "      <td>9.000000</td>\n",
       "      <td>1.200000e+01</td>\n",
       "      <td>4.400000e+01</td>\n",
       "    </tr>\n",
       "    <tr>\n",
       "      <td>pub_rec</td>\n",
       "      <td>39717.0</td>\n",
       "      <td>0.055065</td>\n",
       "      <td>0.237200</td>\n",
       "      <td>0.0000</td>\n",
       "      <td>0.0000</td>\n",
       "      <td>0.000000</td>\n",
       "      <td>0.000000e+00</td>\n",
       "      <td>4.000000e+00</td>\n",
       "    </tr>\n",
       "    <tr>\n",
       "      <td>revol_bal</td>\n",
       "      <td>39717.0</td>\n",
       "      <td>13382.528086</td>\n",
       "      <td>15885.016641</td>\n",
       "      <td>0.0000</td>\n",
       "      <td>3703.0000</td>\n",
       "      <td>8850.000000</td>\n",
       "      <td>1.705800e+04</td>\n",
       "      <td>1.495880e+05</td>\n",
       "    </tr>\n",
       "    <tr>\n",
       "      <td>revol_util</td>\n",
       "      <td>39667.0</td>\n",
       "      <td>0.488322</td>\n",
       "      <td>0.283326</td>\n",
       "      <td>0.0000</td>\n",
       "      <td>0.2540</td>\n",
       "      <td>0.493000</td>\n",
       "      <td>7.240000e-01</td>\n",
       "      <td>9.990000e-01</td>\n",
       "    </tr>\n",
       "    <tr>\n",
       "      <td>total_acc</td>\n",
       "      <td>39717.0</td>\n",
       "      <td>22.088828</td>\n",
       "      <td>11.401709</td>\n",
       "      <td>2.0000</td>\n",
       "      <td>13.0000</td>\n",
       "      <td>20.000000</td>\n",
       "      <td>2.900000e+01</td>\n",
       "      <td>9.000000e+01</td>\n",
       "    </tr>\n",
       "    <tr>\n",
       "      <td>out_prncp</td>\n",
       "      <td>39717.0</td>\n",
       "      <td>51.227887</td>\n",
       "      <td>375.172839</td>\n",
       "      <td>0.0000</td>\n",
       "      <td>0.0000</td>\n",
       "      <td>0.000000</td>\n",
       "      <td>0.000000e+00</td>\n",
       "      <td>6.311470e+03</td>\n",
       "    </tr>\n",
       "    <tr>\n",
       "      <td>out_prncp_inv</td>\n",
       "      <td>39717.0</td>\n",
       "      <td>50.989768</td>\n",
       "      <td>373.824457</td>\n",
       "      <td>0.0000</td>\n",
       "      <td>0.0000</td>\n",
       "      <td>0.000000</td>\n",
       "      <td>0.000000e+00</td>\n",
       "      <td>6.307370e+03</td>\n",
       "    </tr>\n",
       "    <tr>\n",
       "      <td>total_pymnt</td>\n",
       "      <td>39717.0</td>\n",
       "      <td>12153.596544</td>\n",
       "      <td>9042.040766</td>\n",
       "      <td>0.0000</td>\n",
       "      <td>5576.9300</td>\n",
       "      <td>9899.640319</td>\n",
       "      <td>1.653443e+04</td>\n",
       "      <td>5.856368e+04</td>\n",
       "    </tr>\n",
       "    <tr>\n",
       "      <td>total_pymnt_inv</td>\n",
       "      <td>39717.0</td>\n",
       "      <td>11567.149118</td>\n",
       "      <td>8942.672613</td>\n",
       "      <td>0.0000</td>\n",
       "      <td>5112.3100</td>\n",
       "      <td>9287.150000</td>\n",
       "      <td>1.579881e+04</td>\n",
       "      <td>5.856368e+04</td>\n",
       "    </tr>\n",
       "    <tr>\n",
       "      <td>total_rec_prncp</td>\n",
       "      <td>39717.0</td>\n",
       "      <td>9793.348813</td>\n",
       "      <td>7065.522127</td>\n",
       "      <td>0.0000</td>\n",
       "      <td>4600.0000</td>\n",
       "      <td>8000.000000</td>\n",
       "      <td>1.365326e+04</td>\n",
       "      <td>3.500002e+04</td>\n",
       "    </tr>\n",
       "    <tr>\n",
       "      <td>total_rec_int</td>\n",
       "      <td>39717.0</td>\n",
       "      <td>2263.663172</td>\n",
       "      <td>2608.111964</td>\n",
       "      <td>0.0000</td>\n",
       "      <td>662.1800</td>\n",
       "      <td>1348.910000</td>\n",
       "      <td>2.833400e+03</td>\n",
       "      <td>2.356368e+04</td>\n",
       "    </tr>\n",
       "    <tr>\n",
       "      <td>total_rec_late_fee</td>\n",
       "      <td>39717.0</td>\n",
       "      <td>1.363015</td>\n",
       "      <td>7.289979</td>\n",
       "      <td>0.0000</td>\n",
       "      <td>0.0000</td>\n",
       "      <td>0.000000</td>\n",
       "      <td>0.000000e+00</td>\n",
       "      <td>1.802000e+02</td>\n",
       "    </tr>\n",
       "    <tr>\n",
       "      <td>recoveries</td>\n",
       "      <td>39717.0</td>\n",
       "      <td>95.221624</td>\n",
       "      <td>688.744771</td>\n",
       "      <td>0.0000</td>\n",
       "      <td>0.0000</td>\n",
       "      <td>0.000000</td>\n",
       "      <td>0.000000e+00</td>\n",
       "      <td>2.962335e+04</td>\n",
       "    </tr>\n",
       "    <tr>\n",
       "      <td>collection_recovery_fee</td>\n",
       "      <td>39717.0</td>\n",
       "      <td>12.406112</td>\n",
       "      <td>148.671593</td>\n",
       "      <td>0.0000</td>\n",
       "      <td>0.0000</td>\n",
       "      <td>0.000000</td>\n",
       "      <td>0.000000e+00</td>\n",
       "      <td>7.002190e+03</td>\n",
       "    </tr>\n",
       "    <tr>\n",
       "      <td>last_pymnt_amnt</td>\n",
       "      <td>39717.0</td>\n",
       "      <td>2678.826162</td>\n",
       "      <td>4447.136012</td>\n",
       "      <td>0.0000</td>\n",
       "      <td>218.6800</td>\n",
       "      <td>546.140000</td>\n",
       "      <td>3.293160e+03</td>\n",
       "      <td>3.611520e+04</td>\n",
       "    </tr>\n",
       "    <tr>\n",
       "      <td>pub_rec_bankruptcies</td>\n",
       "      <td>39020.0</td>\n",
       "      <td>0.043260</td>\n",
       "      <td>0.204324</td>\n",
       "      <td>0.0000</td>\n",
       "      <td>0.0000</td>\n",
       "      <td>0.000000</td>\n",
       "      <td>0.000000e+00</td>\n",
       "      <td>2.000000e+00</td>\n",
       "    </tr>\n",
       "  </tbody>\n",
       "</table>\n",
       "</div>"
      ],
      "text/plain": [
       "                           count           mean            std         min  \\\n",
       "id                       39717.0  683131.913060  210694.132915  54734.0000   \n",
       "member_id                39717.0  850463.559408  265678.307421  70699.0000   \n",
       "loan_amnt                39717.0   11219.443815    7456.670694    500.0000   \n",
       "funded_amnt              39717.0   10947.713196    7187.238670    500.0000   \n",
       "funded_amnt_inv          39717.0   10397.448868    7128.450439      0.0000   \n",
       "int_rate                 39717.0       0.120212       0.037248      0.0542   \n",
       "installment              39717.0     324.561922     208.874874     15.6900   \n",
       "annual_inc               39717.0   68968.926377   63793.765790   4000.0000   \n",
       "dti                      39717.0      13.315130       6.678594      0.0000   \n",
       "delinq_2yrs              39717.0       0.146512       0.491812      0.0000   \n",
       "inq_last_6mths           39717.0       0.869200       1.070219      0.0000   \n",
       "mths_since_last_delinq   14035.0      35.900962      22.020060      0.0000   \n",
       "mths_since_last_record    2786.0      69.698134      43.822529      0.0000   \n",
       "open_acc                 39717.0       9.294408       4.400282      2.0000   \n",
       "pub_rec                  39717.0       0.055065       0.237200      0.0000   \n",
       "revol_bal                39717.0   13382.528086   15885.016641      0.0000   \n",
       "revol_util               39667.0       0.488322       0.283326      0.0000   \n",
       "total_acc                39717.0      22.088828      11.401709      2.0000   \n",
       "out_prncp                39717.0      51.227887     375.172839      0.0000   \n",
       "out_prncp_inv            39717.0      50.989768     373.824457      0.0000   \n",
       "total_pymnt              39717.0   12153.596544    9042.040766      0.0000   \n",
       "total_pymnt_inv          39717.0   11567.149118    8942.672613      0.0000   \n",
       "total_rec_prncp          39717.0    9793.348813    7065.522127      0.0000   \n",
       "total_rec_int            39717.0    2263.663172    2608.111964      0.0000   \n",
       "total_rec_late_fee       39717.0       1.363015       7.289979      0.0000   \n",
       "recoveries               39717.0      95.221624     688.744771      0.0000   \n",
       "collection_recovery_fee  39717.0      12.406112     148.671593      0.0000   \n",
       "last_pymnt_amnt          39717.0    2678.826162    4447.136012      0.0000   \n",
       "pub_rec_bankruptcies     39020.0       0.043260       0.204324      0.0000   \n",
       "\n",
       "                                 25%            50%           75%  \\\n",
       "id                       516221.0000  665665.000000  8.377550e+05   \n",
       "member_id                666780.0000  850812.000000  1.047339e+06   \n",
       "loan_amnt                  5500.0000   10000.000000  1.500000e+04   \n",
       "funded_amnt                5400.0000    9600.000000  1.500000e+04   \n",
       "funded_amnt_inv            5000.0000    8975.000000  1.440000e+04   \n",
       "int_rate                      0.0925       0.118600  1.459000e-01   \n",
       "installment                 167.0200     280.220000  4.307800e+02   \n",
       "annual_inc                40404.0000   59000.000000  8.230000e+04   \n",
       "dti                           8.1700      13.400000  1.860000e+01   \n",
       "delinq_2yrs                   0.0000       0.000000  0.000000e+00   \n",
       "inq_last_6mths                0.0000       1.000000  1.000000e+00   \n",
       "mths_since_last_delinq       18.0000      34.000000  5.200000e+01   \n",
       "mths_since_last_record       22.0000      90.000000  1.040000e+02   \n",
       "open_acc                      6.0000       9.000000  1.200000e+01   \n",
       "pub_rec                       0.0000       0.000000  0.000000e+00   \n",
       "revol_bal                  3703.0000    8850.000000  1.705800e+04   \n",
       "revol_util                    0.2540       0.493000  7.240000e-01   \n",
       "total_acc                    13.0000      20.000000  2.900000e+01   \n",
       "out_prncp                     0.0000       0.000000  0.000000e+00   \n",
       "out_prncp_inv                 0.0000       0.000000  0.000000e+00   \n",
       "total_pymnt                5576.9300    9899.640319  1.653443e+04   \n",
       "total_pymnt_inv            5112.3100    9287.150000  1.579881e+04   \n",
       "total_rec_prncp            4600.0000    8000.000000  1.365326e+04   \n",
       "total_rec_int               662.1800    1348.910000  2.833400e+03   \n",
       "total_rec_late_fee            0.0000       0.000000  0.000000e+00   \n",
       "recoveries                    0.0000       0.000000  0.000000e+00   \n",
       "collection_recovery_fee       0.0000       0.000000  0.000000e+00   \n",
       "last_pymnt_amnt             218.6800     546.140000  3.293160e+03   \n",
       "pub_rec_bankruptcies          0.0000       0.000000  0.000000e+00   \n",
       "\n",
       "                                  max  \n",
       "id                       1.077501e+06  \n",
       "member_id                1.314167e+06  \n",
       "loan_amnt                3.500000e+04  \n",
       "funded_amnt              3.500000e+04  \n",
       "funded_amnt_inv          3.500000e+04  \n",
       "int_rate                 2.459000e-01  \n",
       "installment              1.305190e+03  \n",
       "annual_inc               6.000000e+06  \n",
       "dti                      2.999000e+01  \n",
       "delinq_2yrs              1.100000e+01  \n",
       "inq_last_6mths           8.000000e+00  \n",
       "mths_since_last_delinq   1.200000e+02  \n",
       "mths_since_last_record   1.290000e+02  \n",
       "open_acc                 4.400000e+01  \n",
       "pub_rec                  4.000000e+00  \n",
       "revol_bal                1.495880e+05  \n",
       "revol_util               9.990000e-01  \n",
       "total_acc                9.000000e+01  \n",
       "out_prncp                6.311470e+03  \n",
       "out_prncp_inv            6.307370e+03  \n",
       "total_pymnt              5.856368e+04  \n",
       "total_pymnt_inv          5.856368e+04  \n",
       "total_rec_prncp          3.500002e+04  \n",
       "total_rec_int            2.356368e+04  \n",
       "total_rec_late_fee       1.802000e+02  \n",
       "recoveries               2.962335e+04  \n",
       "collection_recovery_fee  7.002190e+03  \n",
       "last_pymnt_amnt          3.611520e+04  \n",
       "pub_rec_bankruptcies     2.000000e+00  "
      ]
     },
     "execution_count": 10,
     "metadata": {},
     "output_type": "execute_result"
    }
   ],
   "source": [
    "df.describe().T"
   ]
  },
  {
   "cell_type": "code",
   "execution_count": 11,
   "metadata": {},
   "outputs": [
    {
     "data": {
      "text/plain": [
       "id                             0\n",
       "member_id                      0\n",
       "loan_amnt                      0\n",
       "funded_amnt                    0\n",
       "funded_amnt_inv                0\n",
       "term                           0\n",
       "int_rate                       0\n",
       "installment                    0\n",
       "grade                          0\n",
       "sub_grade                      0\n",
       "emp_length                  1075\n",
       "home_ownership                 0\n",
       "annual_inc                     0\n",
       "verification_status            0\n",
       "issue_d                        0\n",
       "loan_status                    0\n",
       "dti                            0\n",
       "delinq_2yrs                    0\n",
       "earliest_cr_line               0\n",
       "inq_last_6mths                 0\n",
       "mths_since_last_delinq     25682\n",
       "mths_since_last_record     36931\n",
       "open_acc                       0\n",
       "pub_rec                        0\n",
       "revol_bal                      0\n",
       "revol_util                    50\n",
       "total_acc                      0\n",
       "out_prncp                      0\n",
       "out_prncp_inv                  0\n",
       "total_pymnt                    0\n",
       "total_pymnt_inv                0\n",
       "total_rec_prncp                0\n",
       "total_rec_int                  0\n",
       "total_rec_late_fee             0\n",
       "recoveries                     0\n",
       "collection_recovery_fee        0\n",
       "last_pymnt_d                  71\n",
       "last_pymnt_amnt                0\n",
       "next_pymnt_d               38577\n",
       "last_credit_pull_d             2\n",
       "pub_rec_bankruptcies         697\n",
       "dtype: int64"
      ]
     },
     "execution_count": 11,
     "metadata": {},
     "output_type": "execute_result"
    }
   ],
   "source": [
    "df.isnull().sum()"
   ]
  },
  {
   "cell_type": "code",
   "execution_count": 29,
   "metadata": {},
   "outputs": [
    {
     "data": {
      "image/png": "[encoded data removed]",
      "text/plain": [
       "<Figure size 1440x1800 with 2 Axes>"
      ]
     },
     "metadata": {
      "needs_background": "light"
     },
     "output_type": "display_data"
    }
   ],
   "source": [
    "plt.figure(figsize=(20,25))\n",
    "sns.heatmap(df.isnull(),xticklabels=df.columns, cmap='plasma')\n",
    "plt.show()"
   ]
  },
  {
   "cell_type": "markdown",
   "metadata": {},
   "source": [
    "from the above heat map we can visualy see that the varibale like 'mths_since_last_record' and 'next_payment_d' has lots of missing datas. lets analyze the same mathematically"
   ]
  },
  {
   "cell_type": "code",
   "execution_count": 13,
   "metadata": {},
   "outputs": [],
   "source": [
    "columns=[]\n",
    "null_values=[]\n",
    "percentage=[]\n",
    "for col in df.columns:\n",
    "    if df[col].isnull().sum()!=0:\n",
    "        null=df[col].isnull().sum()\n",
    "        null_values.append(null)\n",
    "        percent=np.round((null/df[col].isnull().count())*100,2)\n",
    "        percentage.append(percent)\n",
    "        columns.append(col)    "
   ]
  },
  {
   "cell_type": "code",
   "execution_count": 14,
   "metadata": {},
   "outputs": [],
   "source": [
    "summary=pd.DataFrame({'columns':columns, 'null_values':null_values, '%': percentage})"
   ]
  },
  {
   "cell_type": "code",
   "execution_count": 15,
   "metadata": {},
   "outputs": [
    {
     "data": {
      "text/html": [
       "<div>\n",
       "<style scoped>\n",
       "    .dataframe tbody tr th:only-of-type {\n",
       "        vertical-align: middle;\n",
       "    }\n",
       "\n",
       "    .dataframe tbody tr th {\n",
       "        vertical-align: top;\n",
       "    }\n",
       "\n",
       "    .dataframe thead th {\n",
       "        text-align: right;\n",
       "    }\n",
       "</style>\n",
       "<table border=\"1\" class=\"dataframe\">\n",
       "  <thead>\n",
       "    <tr style=\"text-align: right;\">\n",
       "      <th></th>\n",
       "      <th>columns</th>\n",
       "      <th>null_values</th>\n",
       "      <th>%</th>\n",
       "    </tr>\n",
       "  </thead>\n",
       "  <tbody>\n",
       "    <tr>\n",
       "      <td>0</td>\n",
       "      <td>emp_length</td>\n",
       "      <td>1075</td>\n",
       "      <td>2.71</td>\n",
       "    </tr>\n",
       "    <tr>\n",
       "      <td>1</td>\n",
       "      <td>mths_since_last_delinq</td>\n",
       "      <td>25682</td>\n",
       "      <td>64.66</td>\n",
       "    </tr>\n",
       "    <tr>\n",
       "      <td>2</td>\n",
       "      <td>mths_since_last_record</td>\n",
       "      <td>36931</td>\n",
       "      <td>92.99</td>\n",
       "    </tr>\n",
       "    <tr>\n",
       "      <td>3</td>\n",
       "      <td>revol_util</td>\n",
       "      <td>50</td>\n",
       "      <td>0.13</td>\n",
       "    </tr>\n",
       "    <tr>\n",
       "      <td>4</td>\n",
       "      <td>last_pymnt_d</td>\n",
       "      <td>71</td>\n",
       "      <td>0.18</td>\n",
       "    </tr>\n",
       "    <tr>\n",
       "      <td>5</td>\n",
       "      <td>next_pymnt_d</td>\n",
       "      <td>38577</td>\n",
       "      <td>97.13</td>\n",
       "    </tr>\n",
       "    <tr>\n",
       "      <td>6</td>\n",
       "      <td>last_credit_pull_d</td>\n",
       "      <td>2</td>\n",
       "      <td>0.01</td>\n",
       "    </tr>\n",
       "    <tr>\n",
       "      <td>7</td>\n",
       "      <td>pub_rec_bankruptcies</td>\n",
       "      <td>697</td>\n",
       "      <td>1.75</td>\n",
       "    </tr>\n",
       "  </tbody>\n",
       "</table>\n",
       "</div>"
      ],
      "text/plain": [
       "                  columns  null_values      %\n",
       "0              emp_length         1075   2.71\n",
       "1  mths_since_last_delinq        25682  64.66\n",
       "2  mths_since_last_record        36931  92.99\n",
       "3              revol_util           50   0.13\n",
       "4            last_pymnt_d           71   0.18\n",
       "5            next_pymnt_d        38577  97.13\n",
       "6      last_credit_pull_d            2   0.01\n",
       "7    pub_rec_bankruptcies          697   1.75"
      ]
     },
     "execution_count": 15,
     "metadata": {},
     "output_type": "execute_result"
    }
   ],
   "source": [
    "summary"
   ]
  },
  {
   "cell_type": "markdown",
   "metadata": {},
   "source": [
    "from the above table we can see that variables 'mths_since_last_delinq', 'mths_since_last_record' and 'next_pymnt_d' have 64.66%. 93% and 97% of missing data respectively. we drop these variable"
   ]
  },
  {
   "cell_type": "code",
   "execution_count": 16,
   "metadata": {},
   "outputs": [],
   "source": [
    "df=df.drop(['mths_since_last_delinq','mths_since_last_record','next_pymnt_d'], axis=1)\n"
   ]
  },
  {
   "cell_type": "code",
   "execution_count": 17,
   "metadata": {},
   "outputs": [
    {
     "data": {
      "text/plain": [
       "(39717, 38)"
      ]
     },
     "execution_count": 17,
     "metadata": {},
     "output_type": "execute_result"
    }
   ],
   "source": [
    "df.shape"
   ]
  },
  {
   "cell_type": "markdown",
   "metadata": {},
   "source": [
    "lets fill in the missing values for the remaning variable"
   ]
  },
  {
   "cell_type": "code",
   "execution_count": 18,
   "metadata": {},
   "outputs": [],
   "source": [
    "for col in df.select_dtypes(('int64', 'float64')):\n",
    "    if df[col].isnull().sum()!=0:\n",
    "        df[col]=df[col].fillna(df[col].mean())"
   ]
  },
  {
   "cell_type": "code",
   "execution_count": 19,
   "metadata": {},
   "outputs": [],
   "source": [
    "for col in df.select_dtypes('object'):\n",
    "    if df[col].isnull().sum()!=0:\n",
    "        df[col]=df[col].fillna(df[col].value_counts().index[0])"
   ]
  },
  {
   "cell_type": "markdown",
   "metadata": {},
   "source": [
    "there are two types of grading system. one grade and the other is sub-grade, sub grade is nothing but a further categorization of the Grade. lets see how many levels does these two variable have and based on that we might wanna drop one pf the variable "
   ]
  },
  {
   "cell_type": "code",
   "execution_count": 21,
   "metadata": {},
   "outputs": [
    {
     "data": {
      "text/plain": [
       "7"
      ]
     },
     "execution_count": 21,
     "metadata": {},
     "output_type": "execute_result"
    }
   ],
   "source": [
    "df['grade'].nunique()"
   ]
  },
  {
   "cell_type": "code",
   "execution_count": 22,
   "metadata": {},
   "outputs": [
    {
     "data": {
      "text/plain": [
       "35"
      ]
     },
     "execution_count": 22,
     "metadata": {},
     "output_type": "execute_result"
    }
   ],
   "source": [
    "df['sub_grade'].nunique()"
   ]
  },
  {
   "cell_type": "markdown",
   "metadata": {},
   "source": [
    "Since Sub grade had too many levels. its better we choose grade variable ove sub_grade because the grade varibale gives enough explaination with limited level"
   ]
  },
  {
   "cell_type": "code",
   "execution_count": 24,
   "metadata": {},
   "outputs": [],
   "source": [
    "df=df.drop('sub_grade', axis=1)"
   ]
  },
  {
   "cell_type": "markdown",
   "metadata": {},
   "source": [
    "lets use foward fill method to handle missing value in 'last_payment_d' variable"
   ]
  },
  {
   "cell_type": "code",
   "execution_count": 28,
   "metadata": {},
   "outputs": [],
   "source": [
    " df['last_pymnt_d']=df['last_pymnt_d'].ffill()"
   ]
  },
  {
   "cell_type": "markdown",
   "metadata": {},
   "source": [
    "### Visualization"
   ]
  },
  {
   "cell_type": "code",
   "execution_count": 30,
   "metadata": {},
   "outputs": [
    {
     "data": {
      "text/plain": [
       "Fully Paid     32950\n",
       "Charged Off     5627\n",
       "Current         1140\n",
       "Name: loan_status, dtype: int64"
      ]
     },
     "execution_count": 30,
     "metadata": {},
     "output_type": "execute_result"
    }
   ],
   "source": [
    "df['loan_status'].value_counts()"
   ]
  },
  {
   "cell_type": "code",
   "execution_count": 52,
   "metadata": {},
   "outputs": [
    {
     "data": {
      "text/plain": [
       "[32950, 5627, 1140]"
      ]
     },
     "execution_count": 52,
     "metadata": {},
     "output_type": "execute_result"
    }
   ],
   "source": [
    "size=[df.loan_status[df['loan_status']=='Fully Paid'].count(),df.loan_status[df['loan_status']=='Charged Off'].count(),df.loan_status[df['loan_status']=='Current'].count()]\n",
    "size"
   ]
  },
  {
   "cell_type": "code",
   "execution_count": 53,
   "metadata": {},
   "outputs": [],
   "source": [
    "labels=['Fully paid', 'Charged off', 'Current']"
   ]
  },
  {
   "cell_type": "code",
   "execution_count": 57,
   "metadata": {},
   "outputs": [
    {
     "data": {
      "image/png": "[encoded data removed]",
      "text/plain": [
       "<Figure size 720x720 with 1 Axes>"
      ]
     },
     "metadata": {},
     "output_type": "display_data"
    }
   ],
   "source": [
    "plt.figure(figsize=(10,10))\n",
    "plt.pie(size, labels=labels, explode=(0,0.1,0), shadow=True, autopct='%1.1f%%', startangle=45)\n",
    "plt.show()"
   ]
  },
  {
   "cell_type": "markdown",
   "metadata": {},
   "source": [
    "now we see that 83% fully paid and 2.9% are currently paying thier loan. and 14.2% have charges off with out paying back the bank. "
   ]
  },
  {
   "cell_type": "code",
   "execution_count": 58,
   "metadata": {},
   "outputs": [
    {
     "data": {
      "text/plain": [
       "<matplotlib.collections.PathCollection at 0x259560ae248>"
      ]
     },
     "execution_count": 58,
     "metadata": {},
     "output_type": "execute_result"
    },
    {
     "data": {
      "image/png": "[encoded data removed]",
      "text/plain": [
       "<Figure size 432x288 with 1 Axes>"
      ]
     },
     "metadata": {
      "needs_background": "light"
     },
     "output_type": "display_data"
    }
   ],
   "source": [
    "plt.scatter(df['loan_amnt'], df['funded_amnt'])"
   ]
  },
  {
   "cell_type": "markdown",
   "metadata": {},
   "source": [
    "We see mostly the loan_amount and the funded amount follows a linear relation ship."
   ]
  },
  {
   "cell_type": "code",
   "execution_count": 61,
   "metadata": {},
   "outputs": [
    {
     "data": {
      "image/png": "[encoded data removed]",
      "text/plain": [
       "<Figure size 432x288 with 1 Axes>"
      ]
     },
     "metadata": {
      "needs_background": "light"
     },
     "output_type": "display_data"
    }
   ],
   "source": [
    "sns.pointplot(y='loan_amnt',x='loan_status', data=df)\n",
    "plt.show()"
   ]
  },
  {
   "cell_type": "markdown",
   "metadata": {},
   "source": [
    "We can clearlt see that the loan amount fully paid is lower as compare to Charged off and current"
   ]
  },
  {
   "cell_type": "code",
   "execution_count": 63,
   "metadata": {},
   "outputs": [
    {
     "data": {
      "text/html": [
       "<div>\n",
       "<style scoped>\n",
       "    .dataframe tbody tr th:only-of-type {\n",
       "        vertical-align: middle;\n",
       "    }\n",
       "\n",
       "    .dataframe tbody tr th {\n",
       "        vertical-align: top;\n",
       "    }\n",
       "\n",
       "    .dataframe thead th {\n",
       "        text-align: right;\n",
       "    }\n",
       "</style>\n",
       "<table border=\"1\" class=\"dataframe\">\n",
       "  <thead>\n",
       "    <tr style=\"text-align: right;\">\n",
       "      <th>loan_status</th>\n",
       "      <th>Charged Off</th>\n",
       "      <th>Current</th>\n",
       "      <th>Fully Paid</th>\n",
       "    </tr>\n",
       "    <tr>\n",
       "      <th>home_ownership</th>\n",
       "      <th></th>\n",
       "      <th></th>\n",
       "      <th></th>\n",
       "    </tr>\n",
       "  </thead>\n",
       "  <tbody>\n",
       "    <tr>\n",
       "      <td>MORTGAGE</td>\n",
       "      <td>2327</td>\n",
       "      <td>638</td>\n",
       "      <td>14694</td>\n",
       "    </tr>\n",
       "    <tr>\n",
       "      <td>NONE</td>\n",
       "      <td>0</td>\n",
       "      <td>0</td>\n",
       "      <td>3</td>\n",
       "    </tr>\n",
       "    <tr>\n",
       "      <td>OTHER</td>\n",
       "      <td>18</td>\n",
       "      <td>0</td>\n",
       "      <td>80</td>\n",
       "    </tr>\n",
       "    <tr>\n",
       "      <td>OWN</td>\n",
       "      <td>443</td>\n",
       "      <td>83</td>\n",
       "      <td>2532</td>\n",
       "    </tr>\n",
       "    <tr>\n",
       "      <td>RENT</td>\n",
       "      <td>2839</td>\n",
       "      <td>419</td>\n",
       "      <td>15641</td>\n",
       "    </tr>\n",
       "  </tbody>\n",
       "</table>\n",
       "</div>"
      ],
      "text/plain": [
       "loan_status     Charged Off  Current  Fully Paid\n",
       "home_ownership                                  \n",
       "MORTGAGE               2327      638       14694\n",
       "NONE                      0        0           3\n",
       "OTHER                    18        0          80\n",
       "OWN                     443       83        2532\n",
       "RENT                   2839      419       15641"
      ]
     },
     "execution_count": 63,
     "metadata": {},
     "output_type": "execute_result"
    }
   ],
   "source": [
    "own_status=pd.crosstab(df['home_ownership'], df['loan_status'])\n",
    "own_status"
   ]
  },
  {
   "cell_type": "code",
   "execution_count": 67,
   "metadata": {},
   "outputs": [
    {
     "data": {
      "image/png": "[encoded data removed]",
      "text/plain": [
       "<Figure size 720x720 with 1 Axes>"
      ]
     },
     "metadata": {
      "needs_background": "light"
     },
     "output_type": "display_data"
    }
   ],
   "source": [
    "own_status.plot(kind='bar', stacked=True, figsize=(10,10))\n",
    "plt.show()"
   ]
  },
  {
   "cell_type": "markdown",
   "metadata": {},
   "source": [
    "people in the rented pkace have charged of more than Mortgage and Own"
   ]
  },
  {
   "cell_type": "code",
   "execution_count": 68,
   "metadata": {},
   "outputs": [
    {
     "data": {
      "image/png": "[encoded data removed]",
      "text/plain": [
       "<Figure size 432x288 with 1 Axes>"
      ]
     },
     "metadata": {
      "needs_background": "light"
     },
     "output_type": "display_data"
    }
   ],
   "source": [
    "sns.pointplot(x='loan_status', y='annual_inc', data=df)\n",
    "plt.show()"
   ]
  },
  {
   "cell_type": "markdown",
   "metadata": {},
   "source": [
    "its very Evident form the above graph the people with lower annual income has a higher chances for defaulting the payment"
   ]
  }
 ],
 "metadata": {
  "kernelspec": {
   "display_name": "Python 3",
   "language": "python",
   "name": "python3"
  },
  "language_info": {
   "codemirror_mode": {
    "name": "ipython",
    "version": 3
   },
   "file_extension": ".py",
   "mimetype": "text/x-python",
   "name": "python",
   "nbconvert_exporter": "python",
   "pygments_lexer": "ipython3",
   "version": "3.7.4"
  }
 },
 "nbformat": 4,
 "nbformat_minor": 2
}
