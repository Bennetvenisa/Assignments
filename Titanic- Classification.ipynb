{
 "cells": [
  {
   "cell_type": "code",
   "execution_count": 28,
   "metadata": {},
   "outputs": [],
   "source": [
    "import pandas as pd\n",
    "import numpy as np\n",
    "import matplotlib.pyplot as plt\n",
    "%matplotlib inline\n",
    "import seaborn as sns\n",
    "colour=sns.color_palette()"
   ]
  },
  {
   "cell_type": "code",
   "execution_count": 29,
   "metadata": {},
   "outputs": [],
   "source": [
    "train_df=pd.read_csv('D:\\\\Datascience\\\\datas\\\\titanic_train.csv')  # reading train file"
   ]
  },
  {
   "cell_type": "code",
   "execution_count": 30,
   "metadata": {},
   "outputs": [],
   "source": [
    "test_df=pd.read_csv('D:\\\\Datascience\\\\datas\\\\titanic_test.csv')"
   ]
  },
  {
   "cell_type": "markdown",
   "metadata": {},
   "source": [
    "lets do some data understanding"
   ]
  },
  {
   "cell_type": "code",
   "execution_count": 31,
   "metadata": {},
   "outputs": [
    {
     "data": {
      "text/plain": [
       "(418, 11)"
      ]
     },
     "execution_count": 31,
     "metadata": {},
     "output_type": "execute_result"
    }
   ],
   "source": [
    "test_df.shape"
   ]
  },
  {
   "cell_type": "code",
   "execution_count": 32,
   "metadata": {},
   "outputs": [
    {
     "data": {
      "text/plain": [
       "(891, 12)"
      ]
     },
     "execution_count": 32,
     "metadata": {},
     "output_type": "execute_result"
    }
   ],
   "source": [
    "train_df.shape"
   ]
  },
  {
   "cell_type": "code",
   "execution_count": 33,
   "metadata": {},
   "outputs": [
    {
     "data": {
      "text/html": [
       "<div>\n",
       "<style scoped>\n",
       "    .dataframe tbody tr th:only-of-type {\n",
       "        vertical-align: middle;\n",
       "    }\n",
       "\n",
       "    .dataframe tbody tr th {\n",
       "        vertical-align: top;\n",
       "    }\n",
       "\n",
       "    .dataframe thead th {\n",
       "        text-align: right;\n",
       "    }\n",
       "</style>\n",
       "<table border=\"1\" class=\"dataframe\">\n",
       "  <thead>\n",
       "    <tr style=\"text-align: right;\">\n",
       "      <th></th>\n",
       "      <th>PassengerId</th>\n",
       "      <th>Survived</th>\n",
       "      <th>Pclass</th>\n",
       "      <th>Name</th>\n",
       "      <th>Sex</th>\n",
       "      <th>Age</th>\n",
       "      <th>SibSp</th>\n",
       "      <th>Parch</th>\n",
       "      <th>Ticket</th>\n",
       "      <th>Fare</th>\n",
       "      <th>Cabin</th>\n",
       "      <th>Embarked</th>\n",
       "    </tr>\n",
       "  </thead>\n",
       "  <tbody>\n",
       "    <tr>\n",
       "      <th>0</th>\n",
       "      <td>1</td>\n",
       "      <td>0</td>\n",
       "      <td>3</td>\n",
       "      <td>Braund, Mr. Owen Harris</td>\n",
       "      <td>male</td>\n",
       "      <td>22.0</td>\n",
       "      <td>1</td>\n",
       "      <td>0</td>\n",
       "      <td>A/5 21171</td>\n",
       "      <td>7.2500</td>\n",
       "      <td>NaN</td>\n",
       "      <td>S</td>\n",
       "    </tr>\n",
       "    <tr>\n",
       "      <th>1</th>\n",
       "      <td>2</td>\n",
       "      <td>1</td>\n",
       "      <td>1</td>\n",
       "      <td>Cumings, Mrs. John Bradley (Florence Briggs Th...</td>\n",
       "      <td>female</td>\n",
       "      <td>38.0</td>\n",
       "      <td>1</td>\n",
       "      <td>0</td>\n",
       "      <td>PC 17599</td>\n",
       "      <td>71.2833</td>\n",
       "      <td>C85</td>\n",
       "      <td>C</td>\n",
       "    </tr>\n",
       "    <tr>\n",
       "      <th>2</th>\n",
       "      <td>3</td>\n",
       "      <td>1</td>\n",
       "      <td>3</td>\n",
       "      <td>Heikkinen, Miss. Laina</td>\n",
       "      <td>female</td>\n",
       "      <td>26.0</td>\n",
       "      <td>0</td>\n",
       "      <td>0</td>\n",
       "      <td>STON/O2. 3101282</td>\n",
       "      <td>7.9250</td>\n",
       "      <td>NaN</td>\n",
       "      <td>S</td>\n",
       "    </tr>\n",
       "    <tr>\n",
       "      <th>3</th>\n",
       "      <td>4</td>\n",
       "      <td>1</td>\n",
       "      <td>1</td>\n",
       "      <td>Futrelle, Mrs. Jacques Heath (Lily May Peel)</td>\n",
       "      <td>female</td>\n",
       "      <td>35.0</td>\n",
       "      <td>1</td>\n",
       "      <td>0</td>\n",
       "      <td>113803</td>\n",
       "      <td>53.1000</td>\n",
       "      <td>C123</td>\n",
       "      <td>S</td>\n",
       "    </tr>\n",
       "    <tr>\n",
       "      <th>4</th>\n",
       "      <td>5</td>\n",
       "      <td>0</td>\n",
       "      <td>3</td>\n",
       "      <td>Allen, Mr. William Henry</td>\n",
       "      <td>male</td>\n",
       "      <td>35.0</td>\n",
       "      <td>0</td>\n",
       "      <td>0</td>\n",
       "      <td>373450</td>\n",
       "      <td>8.0500</td>\n",
       "      <td>NaN</td>\n",
       "      <td>S</td>\n",
       "    </tr>\n",
       "  </tbody>\n",
       "</table>\n",
       "</div>"
      ],
      "text/plain": [
       "   PassengerId  Survived  Pclass  \\\n",
       "0            1         0       3   \n",
       "1            2         1       1   \n",
       "2            3         1       3   \n",
       "3            4         1       1   \n",
       "4            5         0       3   \n",
       "\n",
       "                                                Name     Sex   Age  SibSp  \\\n",
       "0                            Braund, Mr. Owen Harris    male  22.0      1   \n",
       "1  Cumings, Mrs. John Bradley (Florence Briggs Th...  female  38.0      1   \n",
       "2                             Heikkinen, Miss. Laina  female  26.0      0   \n",
       "3       Futrelle, Mrs. Jacques Heath (Lily May Peel)  female  35.0      1   \n",
       "4                           Allen, Mr. William Henry    male  35.0      0   \n",
       "\n",
       "   Parch            Ticket     Fare Cabin Embarked  \n",
       "0      0         A/5 21171   7.2500   NaN        S  \n",
       "1      0          PC 17599  71.2833   C85        C  \n",
       "2      0  STON/O2. 3101282   7.9250   NaN        S  \n",
       "3      0            113803  53.1000  C123        S  \n",
       "4      0            373450   8.0500   NaN        S  "
      ]
     },
     "execution_count": 33,
     "metadata": {},
     "output_type": "execute_result"
    }
   ],
   "source": [
    "train_df.head()"
   ]
  },
  {
   "cell_type": "code",
   "execution_count": 34,
   "metadata": {},
   "outputs": [
    {
     "name": "stdout",
     "output_type": "stream",
     "text": [
      "<class 'pandas.core.frame.DataFrame'>\n",
      "RangeIndex: 891 entries, 0 to 890\n",
      "Data columns (total 12 columns):\n",
      "PassengerId    891 non-null int64\n",
      "Survived       891 non-null int64\n",
      "Pclass         891 non-null int64\n",
      "Name           891 non-null object\n",
      "Sex            891 non-null object\n",
      "Age            714 non-null float64\n",
      "SibSp          891 non-null int64\n",
      "Parch          891 non-null int64\n",
      "Ticket         891 non-null object\n",
      "Fare           891 non-null float64\n",
      "Cabin          204 non-null object\n",
      "Embarked       889 non-null object\n",
      "dtypes: float64(2), int64(5), object(5)\n",
      "memory usage: 66.2+ KB\n"
     ]
    }
   ],
   "source": [
    "train_df.info()"
   ]
  },
  {
   "cell_type": "code",
   "execution_count": 35,
   "metadata": {},
   "outputs": [
    {
     "data": {
      "text/html": [
       "<div>\n",
       "<style scoped>\n",
       "    .dataframe tbody tr th:only-of-type {\n",
       "        vertical-align: middle;\n",
       "    }\n",
       "\n",
       "    .dataframe tbody tr th {\n",
       "        vertical-align: top;\n",
       "    }\n",
       "\n",
       "    .dataframe thead th {\n",
       "        text-align: right;\n",
       "    }\n",
       "</style>\n",
       "<table border=\"1\" class=\"dataframe\">\n",
       "  <thead>\n",
       "    <tr style=\"text-align: right;\">\n",
       "      <th></th>\n",
       "      <th>PassengerId</th>\n",
       "      <th>Survived</th>\n",
       "      <th>Pclass</th>\n",
       "      <th>Age</th>\n",
       "      <th>SibSp</th>\n",
       "      <th>Parch</th>\n",
       "      <th>Fare</th>\n",
       "    </tr>\n",
       "  </thead>\n",
       "  <tbody>\n",
       "    <tr>\n",
       "      <th>count</th>\n",
       "      <td>891.000000</td>\n",
       "      <td>891.000000</td>\n",
       "      <td>891.000000</td>\n",
       "      <td>714.000000</td>\n",
       "      <td>891.000000</td>\n",
       "      <td>891.000000</td>\n",
       "      <td>891.000000</td>\n",
       "    </tr>\n",
       "    <tr>\n",
       "      <th>mean</th>\n",
       "      <td>446.000000</td>\n",
       "      <td>0.383838</td>\n",
       "      <td>2.308642</td>\n",
       "      <td>29.699118</td>\n",
       "      <td>0.523008</td>\n",
       "      <td>0.381594</td>\n",
       "      <td>32.204208</td>\n",
       "    </tr>\n",
       "    <tr>\n",
       "      <th>std</th>\n",
       "      <td>257.353842</td>\n",
       "      <td>0.486592</td>\n",
       "      <td>0.836071</td>\n",
       "      <td>14.526497</td>\n",
       "      <td>1.102743</td>\n",
       "      <td>0.806057</td>\n",
       "      <td>49.693429</td>\n",
       "    </tr>\n",
       "    <tr>\n",
       "      <th>min</th>\n",
       "      <td>1.000000</td>\n",
       "      <td>0.000000</td>\n",
       "      <td>1.000000</td>\n",
       "      <td>0.420000</td>\n",
       "      <td>0.000000</td>\n",
       "      <td>0.000000</td>\n",
       "      <td>0.000000</td>\n",
       "    </tr>\n",
       "    <tr>\n",
       "      <th>25%</th>\n",
       "      <td>223.500000</td>\n",
       "      <td>0.000000</td>\n",
       "      <td>2.000000</td>\n",
       "      <td>20.125000</td>\n",
       "      <td>0.000000</td>\n",
       "      <td>0.000000</td>\n",
       "      <td>7.910400</td>\n",
       "    </tr>\n",
       "    <tr>\n",
       "      <th>50%</th>\n",
       "      <td>446.000000</td>\n",
       "      <td>0.000000</td>\n",
       "      <td>3.000000</td>\n",
       "      <td>28.000000</td>\n",
       "      <td>0.000000</td>\n",
       "      <td>0.000000</td>\n",
       "      <td>14.454200</td>\n",
       "    </tr>\n",
       "    <tr>\n",
       "      <th>75%</th>\n",
       "      <td>668.500000</td>\n",
       "      <td>1.000000</td>\n",
       "      <td>3.000000</td>\n",
       "      <td>38.000000</td>\n",
       "      <td>1.000000</td>\n",
       "      <td>0.000000</td>\n",
       "      <td>31.000000</td>\n",
       "    </tr>\n",
       "    <tr>\n",
       "      <th>max</th>\n",
       "      <td>891.000000</td>\n",
       "      <td>1.000000</td>\n",
       "      <td>3.000000</td>\n",
       "      <td>80.000000</td>\n",
       "      <td>8.000000</td>\n",
       "      <td>6.000000</td>\n",
       "      <td>512.329200</td>\n",
       "    </tr>\n",
       "  </tbody>\n",
       "</table>\n",
       "</div>"
      ],
      "text/plain": [
       "       PassengerId    Survived      Pclass         Age       SibSp  \\\n",
       "count   891.000000  891.000000  891.000000  714.000000  891.000000   \n",
       "mean    446.000000    0.383838    2.308642   29.699118    0.523008   \n",
       "std     257.353842    0.486592    0.836071   14.526497    1.102743   \n",
       "min       1.000000    0.000000    1.000000    0.420000    0.000000   \n",
       "25%     223.500000    0.000000    2.000000   20.125000    0.000000   \n",
       "50%     446.000000    0.000000    3.000000   28.000000    0.000000   \n",
       "75%     668.500000    1.000000    3.000000   38.000000    1.000000   \n",
       "max     891.000000    1.000000    3.000000   80.000000    8.000000   \n",
       "\n",
       "            Parch        Fare  \n",
       "count  891.000000  891.000000  \n",
       "mean     0.381594   32.204208  \n",
       "std      0.806057   49.693429  \n",
       "min      0.000000    0.000000  \n",
       "25%      0.000000    7.910400  \n",
       "50%      0.000000   14.454200  \n",
       "75%      0.000000   31.000000  \n",
       "max      6.000000  512.329200  "
      ]
     },
     "execution_count": 35,
     "metadata": {},
     "output_type": "execute_result"
    }
   ],
   "source": [
    "train_df.describe()"
   ]
  },
  {
   "cell_type": "code",
   "execution_count": 36,
   "metadata": {},
   "outputs": [
    {
     "data": {
      "text/plain": [
       "PassengerId      0\n",
       "Survived         0\n",
       "Pclass           0\n",
       "Name             0\n",
       "Sex              0\n",
       "Age            177\n",
       "SibSp            0\n",
       "Parch            0\n",
       "Ticket           0\n",
       "Fare             0\n",
       "Cabin          687\n",
       "Embarked         2\n",
       "dtype: int64"
      ]
     },
     "execution_count": 36,
     "metadata": {},
     "output_type": "execute_result"
    }
   ],
   "source": [
    "train_df.isnull().sum()"
   ]
  },
  {
   "cell_type": "code",
   "execution_count": 37,
   "metadata": {},
   "outputs": [
    {
     "data": {
      "text/plain": [
       "PassengerId      0\n",
       "Pclass           0\n",
       "Name             0\n",
       "Sex              0\n",
       "Age             86\n",
       "SibSp            0\n",
       "Parch            0\n",
       "Ticket           0\n",
       "Fare             1\n",
       "Cabin          327\n",
       "Embarked         0\n",
       "dtype: int64"
      ]
     },
     "execution_count": 37,
     "metadata": {},
     "output_type": "execute_result"
    }
   ],
   "source": [
    "test_df.isnull().sum()"
   ]
  },
  {
   "cell_type": "code",
   "execution_count": 38,
   "metadata": {},
   "outputs": [
    {
     "data": {
      "text/plain": [
       "Text(0.5,1,'train data set missing values')"
      ]
     },
     "execution_count": 38,
     "metadata": {},
     "output_type": "execute_result"
    },
    {
     "data": {
      "image/png": "[encoded data removed]",
      "text/plain": [
       "<Figure size 936x720 with 2 Axes>"
      ]
     },
     "metadata": {
      "needs_background": "light"
     },
     "output_type": "display_data"
    }
   ],
   "source": [
    "plt.figure(figsize=(13,10))\n",
    "sns.heatmap(train_df.isnull(),xticklabels=train_df.columns,cmap='plasma')\n",
    "plt.title('train data set missing values')"
   ]
  },
  {
   "cell_type": "code",
   "execution_count": 39,
   "metadata": {},
   "outputs": [
    {
     "data": {
      "text/plain": [
       "Text(0.5,1,'test dataset missing values')"
      ]
     },
     "execution_count": 39,
     "metadata": {},
     "output_type": "execute_result"
    },
    {
     "data": {
      "image/png": "[encoded data removed]",
      "text/plain": [
       "<Figure size 1296x720 with 2 Axes>"
      ]
     },
     "metadata": {
      "needs_background": "light"
     },
     "output_type": "display_data"
    }
   ],
   "source": [
    "plt.figure(figsize=(18,10))\n",
    "sns.heatmap(test_df.isnull(),yticklabels=False, xticklabels=test_df.columns, cmap='plasma')\n",
    "plt.title('test dataset missing values')"
   ]
  },
  {
   "cell_type": "markdown",
   "metadata": {},
   "source": [
    "We can variables like cabin and and Age has to many nan values. Since Survived is the target variable we see this bariable only in the  training data set\n",
    "now lets start treating the nan values for Age and Cabin"
   ]
  },
  {
   "cell_type": "code",
   "execution_count": 40,
   "metadata": {},
   "outputs": [
    {
     "data": {
      "text/plain": [
       "886     NaN\n",
       "887     B42\n",
       "888     NaN\n",
       "889    C148\n",
       "890     NaN\n",
       "Name: Cabin, dtype: object"
      ]
     },
     "execution_count": 40,
     "metadata": {},
     "output_type": "execute_result"
    }
   ],
   "source": [
    "train_df['Cabin'].tail()"
   ]
  },
  {
   "cell_type": "code",
   "execution_count": 41,
   "metadata": {},
   "outputs": [
    {
     "data": {
      "text/plain": [
       "C23 C25 C27        4\n",
       "B96 B98            4\n",
       "G6                 4\n",
       "D                  3\n",
       "C22 C26            3\n",
       "F33                3\n",
       "E101               3\n",
       "F2                 3\n",
       "D20                2\n",
       "C126               2\n",
       "C83                2\n",
       "B5                 2\n",
       "E25                2\n",
       "C52                2\n",
       "D33                2\n",
       "C124               2\n",
       "B49                2\n",
       "D26                2\n",
       "D35                2\n",
       "B51 B53 B55        2\n",
       "C2                 2\n",
       "C78                2\n",
       "F4                 2\n",
       "B18                2\n",
       "C93                2\n",
       "E121               2\n",
       "B58 B60            2\n",
       "C125               2\n",
       "C123               2\n",
       "B57 B59 B63 B66    2\n",
       "                  ..\n",
       "B79                1\n",
       "E77                1\n",
       "D28                1\n",
       "D37                1\n",
       "E12                1\n",
       "B38                1\n",
       "E63                1\n",
       "D48                1\n",
       "E50                1\n",
       "C70                1\n",
       "B94                1\n",
       "E49                1\n",
       "C110               1\n",
       "A7                 1\n",
       "C47                1\n",
       "D6                 1\n",
       "A36                1\n",
       "B42                1\n",
       "D10 D12            1\n",
       "C118               1\n",
       "C7                 1\n",
       "F E69              1\n",
       "C104               1\n",
       "A20                1\n",
       "B39                1\n",
       "C90                1\n",
       "A14                1\n",
       "B37                1\n",
       "A32                1\n",
       "C46                1\n",
       "Name: Cabin, Length: 147, dtype: int64"
      ]
     },
     "execution_count": 41,
     "metadata": {},
     "output_type": "execute_result"
    }
   ],
   "source": [
    "train_df['Cabin'].value_counts()"
   ]
  },
  {
   "cell_type": "markdown",
   "metadata": {},
   "source": [
    "dealing with Cabin Variable is tricky"
   ]
  },
  {
   "cell_type": "code",
   "execution_count": 42,
   "metadata": {},
   "outputs": [],
   "source": [
    "data=[train_df,test_df]\n",
    "for dataset in data:\n",
    "    dataset['Age']=dataset['Age'].fillna(dataset['Age'].mean())\n",
    "    dataset['Fare']=dataset['Fare'].fillna(dataset['Fare'].mean())\n",
    "    dataset['Embarked']=dataset['Embarked'].fillna(dataset['Embarked'].value_counts().index[0])"
   ]
  },
  {
   "cell_type": "code",
   "execution_count": 43,
   "metadata": {},
   "outputs": [
    {
     "data": {
      "text/plain": [
       "[(0.12156862745098039, 0.4666666666666667, 0.7058823529411765),\n",
       " (1.0, 0.4980392156862745, 0.054901960784313725),\n",
       " (0.17254901960784313, 0.6274509803921569, 0.17254901960784313),\n",
       " (0.8392156862745098, 0.15294117647058825, 0.1568627450980392),\n",
       " (0.5803921568627451, 0.403921568627451, 0.7411764705882353),\n",
       " (0.5490196078431373, 0.33725490196078434, 0.29411764705882354),\n",
       " (0.8901960784313725, 0.4666666666666667, 0.7607843137254902),\n",
       " (0.4980392156862745, 0.4980392156862745, 0.4980392156862745),\n",
       " (0.7372549019607844, 0.7411764705882353, 0.13333333333333333),\n",
       " (0.09019607843137255, 0.7450980392156863, 0.8117647058823529)]"
      ]
     },
     "execution_count": 43,
     "metadata": {},
     "output_type": "execute_result"
    }
   ],
   "source": [
    "sns.color_palette()"
   ]
  },
  {
   "cell_type": "markdown",
   "metadata": {},
   "source": [
    "### Visualization "
   ]
  },
  {
   "cell_type": "code",
   "execution_count": 44,
   "metadata": {},
   "outputs": [
    {
     "name": "stderr",
     "output_type": "stream",
     "text": [
      "C:\\Users\\Antony\\Anaconda3\\lib\\site-packages\\scipy\\stats\\stats.py:1713: FutureWarning: Using a non-tuple sequence for multidimensional indexing is deprecated; use `arr[tuple(seq)]` instead of `arr[seq]`. In the future this will be interpreted as an array index, `arr[np.array(seq)]`, which will result either in an error or a different result.\n",
      "  return np.add.reduce(sorted[indexer] * weights, axis=axis) / sumval\n"
     ]
    },
    {
     "data": {
      "text/plain": [
       "<matplotlib.axes._subplots.AxesSubplot at 0x9174290>"
      ]
     },
     "execution_count": 44,
     "metadata": {},
     "output_type": "execute_result"
    },
    {
     "data": {
      "image/png": "[encoded data removed]",
      "text/plain": [
       "<Figure size 576x576 with 1 Axes>"
      ]
     },
     "metadata": {
      "needs_background": "light"
     },
     "output_type": "display_data"
    }
   ],
   "source": [
    "plt.figure(figsize=(8,8))\n",
    "sns.barplot(x='Survived',y='Age',hue='Sex',data=train_df, color='purple')"
   ]
  },
  {
   "cell_type": "markdown",
   "metadata": {},
   "source": [
    "We can see that the survival rate of women in higher than that of men. now lets see the distbuition of age"
   ]
  },
  {
   "cell_type": "code",
   "execution_count": 45,
   "metadata": {},
   "outputs": [
    {
     "data": {
      "image/png": "[encoded data removed]",
      "text/plain": [
       "<Figure size 1080x360 with 2 Axes>"
      ]
     },
     "metadata": {
      "needs_background": "light"
     },
     "output_type": "display_data"
    }
   ],
   "source": [
    "survived=train_df[train_df['Survived']==1]\n",
    "not_survived=train_df[train_df['Survived']==0]\n",
    "plt.figure(figsize=(15,5))\n",
    "plt.subplot(1,2,1)\n",
    "sns.distplot(survived[survived['Sex']=='male'].Age,bins=30, label='Survived_male_age',kde=False)\n",
    "sns.distplot(survived[survived['Sex']=='female'].Age,bins=40,label='survived_female_age',kde=False)\n",
    "plt.legend()\n",
    "plt.subplot(1,2,2)\n",
    "sns.distplot(not_survived[not_survived['Sex']=='male'].Age,bins=30, label='not_Survived_male_age',kde=False)\n",
    "sns.distplot(not_survived[not_survived['Sex']=='female'].Age,bins=40,label='not_survived_female_age',kde=False)\n",
    "plt.legend()\n",
    "plt.show()"
   ]
  },
  {
   "cell_type": "markdown",
   "metadata": {},
   "source": [
    "We can clearly see that women between age group of 20 to 30 have higher chances of survival. Also babies have a higher chances of survival. men have very low chance od survival."
   ]
  },
  {
   "cell_type": "code",
   "execution_count": 46,
   "metadata": {},
   "outputs": [],
   "source": [
    "size=[survived.Sex[survived['Sex']=='male'].count(),survived.Sex[survived['Sex']=='female'].count(),not_survived.Sex[not_survived['Sex']=='male'].count(),not_survived.Sex[not_survived['Sex']=='female'].count()]"
   ]
  },
  {
   "cell_type": "code",
   "execution_count": 47,
   "metadata": {},
   "outputs": [
    {
     "data": {
      "text/plain": [
       "[109, 233, 468, 81]"
      ]
     },
     "execution_count": 47,
     "metadata": {},
     "output_type": "execute_result"
    }
   ],
   "source": [
    "size"
   ]
  },
  {
   "cell_type": "code",
   "execution_count": 48,
   "metadata": {},
   "outputs": [],
   "source": [
    "labels=['Male_survived', 'Female_survived','Male_not_Survived','Female_not_survived']"
   ]
  },
  {
   "cell_type": "code",
   "execution_count": 49,
   "metadata": {},
   "outputs": [
    {
     "data": {
      "image/png": "[encoded data removed]",
      "text/plain": [
       "<Figure size 576x576 with 1 Axes>"
      ]
     },
     "metadata": {},
     "output_type": "display_data"
    }
   ],
   "source": [
    "plt.figure(figsize=(8,8))\n",
    "plt.pie(size,labels=labels,autopct='%1.1f%%',shadow=True, explode=(0.2,0.1,0,0))\n",
    "plt.show()"
   ]
  },
  {
   "cell_type": "markdown",
   "metadata": {},
   "source": [
    "the above pie chart explains the % of male and female survival rate "
   ]
  },
  {
   "cell_type": "markdown",
   "metadata": {},
   "source": [
    "Now lest see if there is any relatioship between PClass, Embarked and survival rate"
   ]
  },
  {
   "cell_type": "code",
   "execution_count": 50,
   "metadata": {},
   "outputs": [
    {
     "name": "stderr",
     "output_type": "stream",
     "text": [
      "C:\\Users\\Antony\\Anaconda3\\lib\\site-packages\\seaborn\\axisgrid.py:715: UserWarning: Using the barplot function without specifying `order` is likely to produce an incorrect plot.\n",
      "  warnings.warn(warning)\n",
      "C:\\Users\\Antony\\Anaconda3\\lib\\site-packages\\seaborn\\axisgrid.py:720: UserWarning: Using the barplot function without specifying `hue_order` is likely to produce an incorrect plot.\n",
      "  warnings.warn(warning)\n",
      "C:\\Users\\Antony\\Anaconda3\\lib\\site-packages\\scipy\\stats\\stats.py:1713: FutureWarning: Using a non-tuple sequence for multidimensional indexing is deprecated; use `arr[tuple(seq)]` instead of `arr[seq]`. In the future this will be interpreted as an array index, `arr[np.array(seq)]`, which will result either in an error or a different result.\n",
      "  return np.add.reduce(sorted[indexer] * weights, axis=axis) / sumval\n"
     ]
    },
    {
     "data": {
      "text/plain": [
       "<Figure size 720x720 with 0 Axes>"
      ]
     },
     "metadata": {},
     "output_type": "display_data"
    },
    {
     "data": {
      "image/png": "[encoded data removed]",
      "text/plain": [
       "<Figure size 648x216 with 3 Axes>"
      ]
     },
     "metadata": {
      "needs_background": "light"
     },
     "output_type": "display_data"
    }
   ],
   "source": [
    "plt.figure(figsize=(10,10))\n",
    "FacetGrid=sns.FacetGrid(train_df,col='Embarked')\n",
    "FacetGrid.map(sns.barplot,'Survived','Age','Pclass', palette=colour)\n",
    "plt.legend()\n",
    "plt.show()"
   ]
  },
  {
   "cell_type": "code",
   "execution_count": 51,
   "metadata": {},
   "outputs": [
    {
     "name": "stderr",
     "output_type": "stream",
     "text": [
      "C:\\Users\\Antony\\Anaconda3\\lib\\site-packages\\scipy\\stats\\stats.py:1713: FutureWarning: Using a non-tuple sequence for multidimensional indexing is deprecated; use `arr[tuple(seq)]` instead of `arr[seq]`. In the future this will be interpreted as an array index, `arr[np.array(seq)]`, which will result either in an error or a different result.\n",
      "  return np.add.reduce(sorted[indexer] * weights, axis=axis) / sumval\n"
     ]
    },
    {
     "data": {
      "text/plain": [
       "<matplotlib.axes._subplots.AxesSubplot at 0x4cf3390>"
      ]
     },
     "execution_count": 51,
     "metadata": {},
     "output_type": "execute_result"
    },
    {
     "data": {
      "image/png": "[encoded data removed]",
      "text/plain": [
       "<Figure size 432x288 with 1 Axes>"
      ]
     },
     "metadata": {
      "needs_background": "light"
     },
     "output_type": "display_data"
    }
   ],
   "source": [
    "sns.pointplot(train_df['Pclass'],train_df['Fare'],train_df['Survived'])"
   ]
  },
  {
   "cell_type": "markdown",
   "metadata": {},
   "source": [
    "a section of Pclass=1, with Fare range higher than 80 had higher survival chances. "
   ]
  },
  {
   "cell_type": "code",
   "execution_count": 52,
   "metadata": {},
   "outputs": [],
   "source": [
    "dataset=[train_df,test_df]\n",
    "for data in dataset:\n",
    "    data['Relatives']=data['Parch']+data['SibSp']\n",
    "    data.loc[data['Relatives']==0,'Alone']=1\n",
    "    data.loc[data['Relatives']==1,'Alone']=0\n",
    "    data['Alone']=data['Alone'].astype('category')"
   ]
  },
  {
   "cell_type": "code",
   "execution_count": 53,
   "metadata": {},
   "outputs": [
    {
     "name": "stderr",
     "output_type": "stream",
     "text": [
      "C:\\Users\\Antony\\Anaconda3\\lib\\site-packages\\scipy\\stats\\stats.py:1713: FutureWarning: Using a non-tuple sequence for multidimensional indexing is deprecated; use `arr[tuple(seq)]` instead of `arr[seq]`. In the future this will be interpreted as an array index, `arr[np.array(seq)]`, which will result either in an error or a different result.\n",
      "  return np.add.reduce(sorted[indexer] * weights, axis=axis) / sumval\n",
      "No handles with labels found to put in legend.\n"
     ]
    },
    {
     "data": {
      "text/plain": [
       "<matplotlib.legend.Legend at 0x935cf30>"
      ]
     },
     "execution_count": 53,
     "metadata": {},
     "output_type": "execute_result"
    },
    {
     "data": {
      "image/png": "[encoded data removed]",
      "text/plain": [
       "<Figure size 432x288 with 1 Axes>"
      ]
     },
     "metadata": {
      "needs_background": "light"
     },
     "output_type": "display_data"
    }
   ],
   "source": [
    "sns.violinplot(x=train_df['Survived'],y=train_df['Alone'], palette=colour)\n",
    "plt.legend()"
   ]
  },
  {
   "cell_type": "markdown",
   "metadata": {},
   "source": [
    "from the above plot we can infer that the chances of survival when you are not alone, and chances of not surviving when you are alone are high. "
   ]
  },
  {
   "cell_type": "code",
   "execution_count": 54,
   "metadata": {},
   "outputs": [
    {
     "name": "stderr",
     "output_type": "stream",
     "text": [
      "C:\\Users\\Antony\\Anaconda3\\lib\\site-packages\\scipy\\stats\\stats.py:1713: FutureWarning: Using a non-tuple sequence for multidimensional indexing is deprecated; use `arr[tuple(seq)]` instead of `arr[seq]`. In the future this will be interpreted as an array index, `arr[np.array(seq)]`, which will result either in an error or a different result.\n",
      "  return np.add.reduce(sorted[indexer] * weights, axis=axis) / sumval\n"
     ]
    },
    {
     "data": {
      "text/plain": [
       "<matplotlib.axes._subplots.AxesSubplot at 0x937ff90>"
      ]
     },
     "execution_count": 54,
     "metadata": {},
     "output_type": "execute_result"
    },
    {
     "data": {
      "image/png": "[encoded data removed]",
      "text/plain": [
       "<Figure size 432x288 with 1 Axes>"
      ]
     },
     "metadata": {
      "needs_background": "light"
     },
     "output_type": "display_data"
    }
   ],
   "source": [
    "sns.pointplot(x=train_df['Relatives'], y=train_df['Survived'], color='DarkBlue')"
   ]
  },
  {
   "cell_type": "markdown",
   "metadata": {},
   "source": [
    "The Survival chance of family with less that 3 has higher chances of survival, As the family size increases... the survival chances decreases"
   ]
  },
  {
   "cell_type": "markdown",
   "metadata": {},
   "source": [
    "#### Data Preprocessing"
   ]
  },
  {
   "cell_type": "code",
   "execution_count": 57,
   "metadata": {},
   "outputs": [],
   "source": [
    "from sklearn.preprocessing import LabelEncoder,MinMaxScaler"
   ]
  },
  {
   "cell_type": "code",
   "execution_count": 59,
   "metadata": {},
   "outputs": [],
   "source": [
    "le=LabelEncoder()"
   ]
  },
  {
   "cell_type": "code",
   "execution_count": 64,
   "metadata": {},
   "outputs": [],
   "source": [
    "for col in train_df[['Sex','Embarked']]:\n",
    "    train_df[col]=le.fit_transform(train_df[col].astype('str'))"
   ]
  },
  {
   "cell_type": "code",
   "execution_count": 68,
   "metadata": {},
   "outputs": [
    {
     "data": {
      "text/html": [
       "<div>\n",
       "<style scoped>\n",
       "    .dataframe tbody tr th:only-of-type {\n",
       "        vertical-align: middle;\n",
       "    }\n",
       "\n",
       "    .dataframe tbody tr th {\n",
       "        vertical-align: top;\n",
       "    }\n",
       "\n",
       "    .dataframe thead th {\n",
       "        text-align: right;\n",
       "    }\n",
       "</style>\n",
       "<table border=\"1\" class=\"dataframe\">\n",
       "  <thead>\n",
       "    <tr style=\"text-align: right;\">\n",
       "      <th></th>\n",
       "      <th>PassengerId</th>\n",
       "      <th>Survived</th>\n",
       "      <th>Pclass</th>\n",
       "      <th>Name</th>\n",
       "      <th>Sex</th>\n",
       "      <th>Age</th>\n",
       "      <th>SibSp</th>\n",
       "      <th>Parch</th>\n",
       "      <th>Ticket</th>\n",
       "      <th>Fare</th>\n",
       "      <th>Cabin</th>\n",
       "      <th>Embarked</th>\n",
       "      <th>Relatives</th>\n",
       "      <th>Alone</th>\n",
       "    </tr>\n",
       "  </thead>\n",
       "  <tbody>\n",
       "    <tr>\n",
       "      <th>0</th>\n",
       "      <td>1</td>\n",
       "      <td>0</td>\n",
       "      <td>3</td>\n",
       "      <td>Braund, Mr. Owen Harris</td>\n",
       "      <td>1</td>\n",
       "      <td>22.0</td>\n",
       "      <td>1</td>\n",
       "      <td>0</td>\n",
       "      <td>A/5 21171</td>\n",
       "      <td>7.2500</td>\n",
       "      <td>NaN</td>\n",
       "      <td>2</td>\n",
       "      <td>1</td>\n",
       "      <td>0.0</td>\n",
       "    </tr>\n",
       "    <tr>\n",
       "      <th>1</th>\n",
       "      <td>2</td>\n",
       "      <td>1</td>\n",
       "      <td>1</td>\n",
       "      <td>Cumings, Mrs. John Bradley (Florence Briggs Th...</td>\n",
       "      <td>0</td>\n",
       "      <td>38.0</td>\n",
       "      <td>1</td>\n",
       "      <td>0</td>\n",
       "      <td>PC 17599</td>\n",
       "      <td>71.2833</td>\n",
       "      <td>C85</td>\n",
       "      <td>0</td>\n",
       "      <td>1</td>\n",
       "      <td>0.0</td>\n",
       "    </tr>\n",
       "    <tr>\n",
       "      <th>2</th>\n",
       "      <td>3</td>\n",
       "      <td>1</td>\n",
       "      <td>3</td>\n",
       "      <td>Heikkinen, Miss. Laina</td>\n",
       "      <td>0</td>\n",
       "      <td>26.0</td>\n",
       "      <td>0</td>\n",
       "      <td>0</td>\n",
       "      <td>STON/O2. 3101282</td>\n",
       "      <td>7.9250</td>\n",
       "      <td>NaN</td>\n",
       "      <td>2</td>\n",
       "      <td>0</td>\n",
       "      <td>1.0</td>\n",
       "    </tr>\n",
       "    <tr>\n",
       "      <th>3</th>\n",
       "      <td>4</td>\n",
       "      <td>1</td>\n",
       "      <td>1</td>\n",
       "      <td>Futrelle, Mrs. Jacques Heath (Lily May Peel)</td>\n",
       "      <td>0</td>\n",
       "      <td>35.0</td>\n",
       "      <td>1</td>\n",
       "      <td>0</td>\n",
       "      <td>113803</td>\n",
       "      <td>53.1000</td>\n",
       "      <td>C123</td>\n",
       "      <td>2</td>\n",
       "      <td>1</td>\n",
       "      <td>0.0</td>\n",
       "    </tr>\n",
       "    <tr>\n",
       "      <th>4</th>\n",
       "      <td>5</td>\n",
       "      <td>0</td>\n",
       "      <td>3</td>\n",
       "      <td>Allen, Mr. William Henry</td>\n",
       "      <td>1</td>\n",
       "      <td>35.0</td>\n",
       "      <td>0</td>\n",
       "      <td>0</td>\n",
       "      <td>373450</td>\n",
       "      <td>8.0500</td>\n",
       "      <td>NaN</td>\n",
       "      <td>2</td>\n",
       "      <td>0</td>\n",
       "      <td>1.0</td>\n",
       "    </tr>\n",
       "  </tbody>\n",
       "</table>\n",
       "</div>"
      ],
      "text/plain": [
       "   PassengerId  Survived  Pclass  \\\n",
       "0            1         0       3   \n",
       "1            2         1       1   \n",
       "2            3         1       3   \n",
       "3            4         1       1   \n",
       "4            5         0       3   \n",
       "\n",
       "                                                Name  Sex   Age  SibSp  Parch  \\\n",
       "0                            Braund, Mr. Owen Harris    1  22.0      1      0   \n",
       "1  Cumings, Mrs. John Bradley (Florence Briggs Th...    0  38.0      1      0   \n",
       "2                             Heikkinen, Miss. Laina    0  26.0      0      0   \n",
       "3       Futrelle, Mrs. Jacques Heath (Lily May Peel)    0  35.0      1      0   \n",
       "4                           Allen, Mr. William Henry    1  35.0      0      0   \n",
       "\n",
       "             Ticket     Fare Cabin  Embarked  Relatives Alone  \n",
       "0         A/5 21171   7.2500   NaN         2          1   0.0  \n",
       "1          PC 17599  71.2833   C85         0          1   0.0  \n",
       "2  STON/O2. 3101282   7.9250   NaN         2          0   1.0  \n",
       "3            113803  53.1000  C123         2          1   0.0  \n",
       "4            373450   8.0500   NaN         2          0   1.0  "
      ]
     },
     "execution_count": 68,
     "metadata": {},
     "output_type": "execute_result"
    }
   ],
   "source": [
    "train_df.head()"
   ]
  },
  {
   "cell_type": "code",
   "execution_count": 79,
   "metadata": {},
   "outputs": [
    {
     "ename": "ValueError",
     "evalue": "Expected 2D array, got 1D array instead:\narray=[  7.25    71.2833   7.925   53.1      8.05     8.4583  51.8625  21.075\n  11.1333  30.0708  16.7     26.55     8.05    31.275    7.8542  16.\n  29.125   13.      18.       7.225   26.      13.       8.0292  35.5\n  21.075   31.3875   7.225  263.       7.8792   7.8958  27.7208 146.5208\n   7.75    10.5     82.1708  52.       7.2292   8.05    18.      11.2417\n   9.475   21.       7.8958  41.5792   7.8792   8.05    15.5      7.75\n  21.6792  17.8     39.6875   7.8     76.7292  26.      61.9792  35.5\n  10.5      7.2292  27.75    46.9      7.2292  80.      83.475   27.9\n  27.7208  15.2458  10.5      8.1583   7.925    8.6625  10.5     46.9\n  73.5     14.4542  56.4958   7.65     7.8958   8.05    29.      12.475\n   9.       9.5      7.7875  47.1     10.5     15.85    34.375    8.05\n 263.       8.05     8.05     7.8542  61.175   20.575    7.25     8.05\n  34.6542  63.3583  23.      26.       7.8958   7.8958  77.2875   8.6542\n   7.925    7.8958   7.65     7.775    7.8958  24.15    52.      14.4542\n   8.05     9.825   14.4583   7.925    7.75    21.     247.5208  31.275\n  73.5      8.05    30.0708  13.      77.2875  11.2417   7.75     7.1417\n  22.3583   6.975    7.8958   7.05    14.5     26.      13.      15.0458\n  26.2833  53.1      9.2167  79.2     15.2458   7.75    15.85     6.75\n  11.5     36.75     7.7958  34.375   26.      13.      12.525   66.6\n   8.05    14.5      7.3125  61.3792   7.7333   8.05     8.6625  69.55\n  16.1     15.75     7.775    8.6625  39.6875  20.525   55.      27.9\n  25.925   56.4958  33.5     29.125   11.1333   7.925   30.6958   7.8542\n  25.4667  28.7125  13.       0.      69.55    15.05    31.3875  39.\n  22.025   50.      15.5     26.55    15.5      7.8958  13.      13.\n   7.8542  26.      27.7208 146.5208   7.75     8.4042   7.75    13.\n   9.5     69.55     6.4958   7.225    8.05    10.4625  15.85    18.7875\n   7.75    31.       7.05    21.       7.25    13.       7.75   113.275\n   7.925   27.      76.2917  10.5      8.05    13.       8.05     7.8958\n  90.       9.35    10.5      7.25    13.      25.4667  83.475    7.775\n  13.5     31.3875  10.5      7.55    26.      26.25    10.5     12.275\n  14.4542  15.5     10.5      7.125    7.225   90.       7.775   14.5\n  52.5542  26.       7.25    10.4625  26.55    16.1     20.2125  15.2458\n  79.2     86.5    512.3292  26.       7.75    31.3875  79.65     0.\n   7.75    10.5     39.6875   7.775  153.4625 135.6333  31.       0.\n  19.5     29.7      7.75    77.9583   7.75     0.      29.125   20.25\n   7.75     7.8542   9.5      8.05    26.       8.6625   9.5      7.8958\n  13.       7.75    78.85    91.0792  12.875    8.85     7.8958  27.7208\n   7.2292 151.55    30.5    247.5208   7.75    23.25     0.      12.35\n   8.05   151.55   110.8833 108.9     24.      56.9292  83.1583 262.375\n  26.       7.8958  26.25     7.8542  26.      14.     164.8667 134.5\n   7.25     7.8958  12.35    29.      69.55   135.6333   6.2375  13.\n  20.525   57.9792  23.25    28.5    153.4625  18.     133.65     7.8958\n  66.6    134.5      8.05    35.5     26.     263.      13.      13.\n  13.      13.      13.      16.1     15.9      8.6625   9.225   35.\n   7.2292  17.8      7.225    9.5     55.      13.       7.8792   7.8792\n  27.9     27.7208  14.4542   7.05    15.5      7.25    75.25     7.2292\n   7.75    69.3     55.4417   6.4958   8.05   135.6333  21.075   82.1708\n   7.25   211.5      4.0125   7.775  227.525   15.7417   7.925   52.\n   7.8958  73.5     46.9     13.       7.7292  12.     120.       7.7958\n   7.925  113.275   16.7      7.7958   7.8542  26.      10.5     12.65\n   7.925    8.05     9.825   15.85     8.6625  21.       7.75    18.75\n   7.775   25.4667   7.8958   6.8583  90.       0.       7.925    8.05\n  32.5     13.      13.      24.15     7.8958   7.7333   7.875   14.4\n  20.2125   7.25    26.      26.       7.75     8.05    26.55    16.1\n  26.       7.125   55.9    120.      34.375   18.75   263.      10.5\n  26.25     9.5      7.775   13.       8.1125  81.8583  19.5     26.55\n  19.2583  30.5     27.75    19.9667  27.75    89.1042   8.05     7.8958\n  26.55    51.8625  10.5      7.75    26.55     8.05    38.5     13.\n   8.05     7.05     0.      26.55     7.725   19.2583   7.25     8.6625\n  27.75    13.7917   9.8375  52.      21.       7.0458   7.5208  12.2875\n  46.9      0.       8.05     9.5875  91.0792  25.4667  90.      29.7\n   8.05    15.9     19.9667   7.25    30.5     49.5042   8.05    14.4583\n  78.2667  15.1    151.55     7.7958   8.6625   7.75     7.6292   9.5875\n  86.5    108.9     26.      26.55    22.525   56.4958   7.75     8.05\n  26.2875  59.4      7.4958  34.0208  10.5     24.15    26.       7.8958\n  93.5      7.8958   7.225   57.9792   7.2292   7.75    10.5    221.7792\n   7.925   11.5     26.       7.2292   7.2292  22.3583   8.6625  26.25\n  26.55   106.425   14.5     49.5     71.      31.275   31.275   26.\n 106.425   26.      26.      13.8625  20.525   36.75   110.8833  26.\n   7.8292   7.225    7.775   26.55    39.6    227.525   79.65    17.4\n   7.75     7.8958  13.5      8.05     8.05    24.15     7.8958  21.075\n   7.2292   7.8542  10.5     51.4792  26.3875   7.75     8.05    14.5\n  13.      55.9     14.4583   7.925   30.     110.8833  26.      40.125\n   8.7125  79.65    15.      79.2      8.05     8.05     7.125   78.2667\n   7.25     7.75    26.      24.15    33.       0.       7.225   56.9292\n  27.       7.8958  42.4      8.05    26.55    15.55     7.8958  30.5\n  41.5792 153.4625  31.275    7.05    15.5      7.75     8.05    65.\n  14.4     16.1     39.      10.5     14.4542  52.5542  15.7417   7.8542\n  16.1     32.3208  12.35    77.9583   7.8958   7.7333  30.       7.0542\n  30.5      0.      27.9     13.       7.925   26.25    39.6875  16.1\n   7.8542  69.3     27.9     56.4958  19.2583  76.7292   7.8958  35.5\n   7.55     7.55     7.8958  23.       8.4333   7.8292   6.75    73.5\n   7.8958  15.5     13.     113.275  133.65     7.225   25.5875   7.4958\n   7.925   73.5     13.       7.775    8.05    52.      39.      52.\n  10.5     13.       0.       7.775    8.05     9.8417  46.9    512.3292\n   8.1375  76.7292   9.225   46.9     39.      41.5792  39.6875  10.1708\n   7.7958 211.3375  57.      13.4167  56.4958   7.225   26.55    13.5\n   8.05     7.7333 110.8833   7.65   227.525   26.2875  14.4542   7.7417\n   7.8542  26.      13.5     26.2875 151.55    15.2458  49.5042  26.55\n  52.       9.4833  13.       7.65   227.525   10.5     15.5      7.775\n  33.       7.0542  13.      13.      53.1      8.6625  21.       7.7375\n  26.       7.925  211.3375  18.7875   0.      13.      13.      16.1\n  34.375  512.3292   7.8958   7.8958  30.      78.85   262.375   16.1\n   7.925   71.      20.25    13.      53.1      7.75    23.      12.475\n   9.5      7.8958  65.      14.5      7.7958  11.5      8.05    86.5\n  14.5      7.125    7.2292 120.       7.775   77.9583  39.6      7.75\n  24.15     8.3625   9.5      7.8542  10.5      7.225   23.       7.75\n   7.75    12.475    7.7375 211.3375   7.2292  57.      30.      23.45\n   7.05     7.25     7.4958  29.125   20.575   79.2      7.75    26.\n  69.55    30.6958   7.8958  13.      25.9292   8.6833   7.2292  24.15\n  13.      26.25   120.       8.5167   6.975    7.775    0.       7.775\n  13.      53.1      7.8875  24.15    10.5     31.275    8.05     0.\n   7.925   37.0042   6.45    27.9     93.5      8.6625   0.      12.475\n  39.6875   6.95    56.4958  37.0042   7.75    80.      14.4542  18.75\n   7.2292   7.8542   8.3     83.1583   8.6625   8.05    56.4958  29.7\n   7.925   10.5     31.       6.4375   8.6625   7.55    69.55     7.8958\n  33.      89.1042  31.275    7.775   15.2458  39.4     26.       9.35\n 164.8667  26.55    19.2583   7.2292  14.1083  11.5     25.9292  69.55\n  13.      13.      13.8583  50.4958   9.5     11.1333   7.8958  52.5542\n   5.       9.      24.       7.225    9.8458   7.8958   7.8958  83.1583\n  26.       7.8958  10.5167  10.5      7.05    29.125   13.      30.\n  23.45    30.       7.75  ].\nReshape your data either using array.reshape(-1, 1) if your data has a single feature or array.reshape(1, -1) if it contains a single sample.",
     "output_type": "error",
     "traceback": [
      "\u001b[1;31m---------------------------------------------------------------------------\u001b[0m",
      "\u001b[1;31mValueError\u001b[0m                                Traceback (most recent call last)",
      "\u001b[1;32m<ipython-input-79-af7cd18ec039>\u001b[0m in \u001b[0;36m<module>\u001b[1;34m()\u001b[0m\n\u001b[1;32m----> 1\u001b[1;33m \u001b[0mtrain_df\u001b[0m\u001b[1;33m[\u001b[0m\u001b[1;34m'Fare'\u001b[0m\u001b[1;33m]\u001b[0m\u001b[1;33m=\u001b[0m\u001b[0mMinMaxScaler\u001b[0m\u001b[1;33m(\u001b[0m\u001b[1;33m)\u001b[0m\u001b[1;33m.\u001b[0m\u001b[0mfit_transform\u001b[0m\u001b[1;33m(\u001b[0m\u001b[0mtrain_df\u001b[0m\u001b[1;33m[\u001b[0m\u001b[1;34m'Fare'\u001b[0m\u001b[1;33m]\u001b[0m\u001b[1;33m)\u001b[0m\u001b[1;33m\u001b[0m\u001b[0m\n\u001b[0m",
      "\u001b[1;32m~\\Anaconda3\\lib\\site-packages\\sklearn\\base.py\u001b[0m in \u001b[0;36mfit_transform\u001b[1;34m(self, X, y, **fit_params)\u001b[0m\n\u001b[0;32m    515\u001b[0m         \u001b[1;32mif\u001b[0m \u001b[0my\u001b[0m \u001b[1;32mis\u001b[0m \u001b[1;32mNone\u001b[0m\u001b[1;33m:\u001b[0m\u001b[1;33m\u001b[0m\u001b[0m\n\u001b[0;32m    516\u001b[0m             \u001b[1;31m# fit method of arity 1 (unsupervised transformation)\u001b[0m\u001b[1;33m\u001b[0m\u001b[1;33m\u001b[0m\u001b[0m\n\u001b[1;32m--> 517\u001b[1;33m             \u001b[1;32mreturn\u001b[0m \u001b[0mself\u001b[0m\u001b[1;33m.\u001b[0m\u001b[0mfit\u001b[0m\u001b[1;33m(\u001b[0m\u001b[0mX\u001b[0m\u001b[1;33m,\u001b[0m \u001b[1;33m**\u001b[0m\u001b[0mfit_params\u001b[0m\u001b[1;33m)\u001b[0m\u001b[1;33m.\u001b[0m\u001b[0mtransform\u001b[0m\u001b[1;33m(\u001b[0m\u001b[0mX\u001b[0m\u001b[1;33m)\u001b[0m\u001b[1;33m\u001b[0m\u001b[0m\n\u001b[0m\u001b[0;32m    518\u001b[0m         \u001b[1;32melse\u001b[0m\u001b[1;33m:\u001b[0m\u001b[1;33m\u001b[0m\u001b[0m\n\u001b[0;32m    519\u001b[0m             \u001b[1;31m# fit method of arity 2 (supervised transformation)\u001b[0m\u001b[1;33m\u001b[0m\u001b[1;33m\u001b[0m\u001b[0m\n",
      "\u001b[1;32m~\\Anaconda3\\lib\\site-packages\\sklearn\\preprocessing\\data.py\u001b[0m in \u001b[0;36mfit\u001b[1;34m(self, X, y)\u001b[0m\n\u001b[0;32m    306\u001b[0m         \u001b[1;31m# Reset internal state before fitting\u001b[0m\u001b[1;33m\u001b[0m\u001b[1;33m\u001b[0m\u001b[0m\n\u001b[0;32m    307\u001b[0m         \u001b[0mself\u001b[0m\u001b[1;33m.\u001b[0m\u001b[0m_reset\u001b[0m\u001b[1;33m(\u001b[0m\u001b[1;33m)\u001b[0m\u001b[1;33m\u001b[0m\u001b[0m\n\u001b[1;32m--> 308\u001b[1;33m         \u001b[1;32mreturn\u001b[0m \u001b[0mself\u001b[0m\u001b[1;33m.\u001b[0m\u001b[0mpartial_fit\u001b[0m\u001b[1;33m(\u001b[0m\u001b[0mX\u001b[0m\u001b[1;33m,\u001b[0m \u001b[0my\u001b[0m\u001b[1;33m)\u001b[0m\u001b[1;33m\u001b[0m\u001b[0m\n\u001b[0m\u001b[0;32m    309\u001b[0m \u001b[1;33m\u001b[0m\u001b[0m\n\u001b[0;32m    310\u001b[0m     \u001b[1;32mdef\u001b[0m \u001b[0mpartial_fit\u001b[0m\u001b[1;33m(\u001b[0m\u001b[0mself\u001b[0m\u001b[1;33m,\u001b[0m \u001b[0mX\u001b[0m\u001b[1;33m,\u001b[0m \u001b[0my\u001b[0m\u001b[1;33m=\u001b[0m\u001b[1;32mNone\u001b[0m\u001b[1;33m)\u001b[0m\u001b[1;33m:\u001b[0m\u001b[1;33m\u001b[0m\u001b[0m\n",
      "\u001b[1;32m~\\Anaconda3\\lib\\site-packages\\sklearn\\preprocessing\\data.py\u001b[0m in \u001b[0;36mpartial_fit\u001b[1;34m(self, X, y)\u001b[0m\n\u001b[0;32m    332\u001b[0m \u001b[1;33m\u001b[0m\u001b[0m\n\u001b[0;32m    333\u001b[0m         X = check_array(X, copy=self.copy, warn_on_dtype=True,\n\u001b[1;32m--> 334\u001b[1;33m                         estimator=self, dtype=FLOAT_DTYPES)\n\u001b[0m\u001b[0;32m    335\u001b[0m \u001b[1;33m\u001b[0m\u001b[0m\n\u001b[0;32m    336\u001b[0m         \u001b[0mdata_min\u001b[0m \u001b[1;33m=\u001b[0m \u001b[0mnp\u001b[0m\u001b[1;33m.\u001b[0m\u001b[0mmin\u001b[0m\u001b[1;33m(\u001b[0m\u001b[0mX\u001b[0m\u001b[1;33m,\u001b[0m \u001b[0maxis\u001b[0m\u001b[1;33m=\u001b[0m\u001b[1;36m0\u001b[0m\u001b[1;33m)\u001b[0m\u001b[1;33m\u001b[0m\u001b[0m\n",
      "\u001b[1;32m~\\Anaconda3\\lib\\site-packages\\sklearn\\utils\\validation.py\u001b[0m in \u001b[0;36mcheck_array\u001b[1;34m(array, accept_sparse, dtype, order, copy, force_all_finite, ensure_2d, allow_nd, ensure_min_samples, ensure_min_features, warn_on_dtype, estimator)\u001b[0m\n\u001b[0;32m    439\u001b[0m                     \u001b[1;34m\"Reshape your data either using array.reshape(-1, 1) if \"\u001b[0m\u001b[1;33m\u001b[0m\u001b[0m\n\u001b[0;32m    440\u001b[0m                     \u001b[1;34m\"your data has a single feature or array.reshape(1, -1) \"\u001b[0m\u001b[1;33m\u001b[0m\u001b[0m\n\u001b[1;32m--> 441\u001b[1;33m                     \"if it contains a single sample.\".format(array))\n\u001b[0m\u001b[0;32m    442\u001b[0m             \u001b[0marray\u001b[0m \u001b[1;33m=\u001b[0m \u001b[0mnp\u001b[0m\u001b[1;33m.\u001b[0m\u001b[0matleast_2d\u001b[0m\u001b[1;33m(\u001b[0m\u001b[0marray\u001b[0m\u001b[1;33m)\u001b[0m\u001b[1;33m\u001b[0m\u001b[0m\n\u001b[0;32m    443\u001b[0m             \u001b[1;31m# To ensure that array flags are maintained\u001b[0m\u001b[1;33m\u001b[0m\u001b[1;33m\u001b[0m\u001b[0m\n",
      "\u001b[1;31mValueError\u001b[0m: Expected 2D array, got 1D array instead:\narray=[  7.25    71.2833   7.925   53.1      8.05     8.4583  51.8625  21.075\n  11.1333  30.0708  16.7     26.55     8.05    31.275    7.8542  16.\n  29.125   13.      18.       7.225   26.      13.       8.0292  35.5\n  21.075   31.3875   7.225  263.       7.8792   7.8958  27.7208 146.5208\n   7.75    10.5     82.1708  52.       7.2292   8.05    18.      11.2417\n   9.475   21.       7.8958  41.5792   7.8792   8.05    15.5      7.75\n  21.6792  17.8     39.6875   7.8     76.7292  26.      61.9792  35.5\n  10.5      7.2292  27.75    46.9      7.2292  80.      83.475   27.9\n  27.7208  15.2458  10.5      8.1583   7.925    8.6625  10.5     46.9\n  73.5     14.4542  56.4958   7.65     7.8958   8.05    29.      12.475\n   9.       9.5      7.7875  47.1     10.5     15.85    34.375    8.05\n 263.       8.05     8.05     7.8542  61.175   20.575    7.25     8.05\n  34.6542  63.3583  23.      26.       7.8958   7.8958  77.2875   8.6542\n   7.925    7.8958   7.65     7.775    7.8958  24.15    52.      14.4542\n   8.05     9.825   14.4583   7.925    7.75    21.     247.5208  31.275\n  73.5      8.05    30.0708  13.      77.2875  11.2417   7.75     7.1417\n  22.3583   6.975    7.8958   7.05    14.5     26.      13.      15.0458\n  26.2833  53.1      9.2167  79.2     15.2458   7.75    15.85     6.75\n  11.5     36.75     7.7958  34.375   26.      13.      12.525   66.6\n   8.05    14.5      7.3125  61.3792   7.7333   8.05     8.6625  69.55\n  16.1     15.75     7.775    8.6625  39.6875  20.525   55.      27.9\n  25.925   56.4958  33.5     29.125   11.1333   7.925   30.6958   7.8542\n  25.4667  28.7125  13.       0.      69.55    15.05    31.3875  39.\n  22.025   50.      15.5     26.55    15.5      7.8958  13.      13.\n   7.8542  26.      27.7208 146.5208   7.75     8.4042   7.75    13.\n   9.5     69.55     6.4958   7.225    8.05    10.4625  15.85    18.7875\n   7.75    31.       7.05    21.       7.25    13.       7.75   113.275\n   7.925   27.      76.2917  10.5      8.05    13.       8.05     7.8958\n  90.       9.35    10.5      7.25    13.      25.4667  83.475    7.775\n  13.5     31.3875  10.5      7.55    26.      26.25    10.5     12.275\n  14.4542  15.5     10.5      7.125    7.225   90.       7.775   14.5\n  52.5542  26.       7.25    10.4625  26.55    16.1     20.2125  15.2458\n  79.2     86.5    512.3292  26.       7.75    31.3875  79.65     0.\n   7.75    10.5     39.6875   7.775  153.4625 135.6333  31.       0.\n  19.5     29.7      7.75    77.9583   7.75     0.      29.125   20.25\n   7.75     7.8542   9.5      8.05    26.       8.6625   9.5      7.8958\n  13.       7.75    78.85    91.0792  12.875    8.85     7.8958  27.7208\n   7.2292 151.55    30.5    247.5208   7.75    23.25     0.      12.35\n   8.05   151.55   110.8833 108.9     24.      56.9292  83.1583 262.375\n  26.       7.8958  26.25     7.8542  26.      14.     164.8667 134.5\n   7.25     7.8958  12.35    29.      69.55   135.6333   6.2375  13.\n  20.525   57.9792  23.25    28.5    153.4625  18.     133.65     7.8958\n  66.6    134.5      8.05    35.5     26.     263.      13.      13.\n  13.      13.      13.      16.1     15.9      8.6625   9.225   35.\n   7.2292  17.8      7.225    9.5     55.      13.       7.8792   7.8792\n  27.9     27.7208  14.4542   7.05    15.5      7.25    75.25     7.2292\n   7.75    69.3     55.4417   6.4958   8.05   135.6333  21.075   82.1708\n   7.25   211.5      4.0125   7.775  227.525   15.7417   7.925   52.\n   7.8958  73.5     46.9     13.       7.7292  12.     120.       7.7958\n   7.925  113.275   16.7      7.7958   7.8542  26.      10.5     12.65\n   7.925    8.05     9.825   15.85     8.6625  21.       7.75    18.75\n   7.775   25.4667   7.8958   6.8583  90.       0.       7.925    8.05\n  32.5     13.      13.      24.15     7.8958   7.7333   7.875   14.4\n  20.2125   7.25    26.      26.       7.75     8.05    26.55    16.1\n  26.       7.125   55.9    120.      34.375   18.75   263.      10.5\n  26.25     9.5      7.775   13.       8.1125  81.8583  19.5     26.55\n  19.2583  30.5     27.75    19.9667  27.75    89.1042   8.05     7.8958\n  26.55    51.8625  10.5      7.75    26.55     8.05    38.5     13.\n   8.05     7.05     0.      26.55     7.725   19.2583   7.25     8.6625\n  27.75    13.7917   9.8375  52.      21.       7.0458   7.5208  12.2875\n  46.9      0.       8.05     9.5875  91.0792  25.4667  90.      29.7\n   8.05    15.9     19.9667   7.25    30.5     49.5042   8.05    14.4583\n  78.2667  15.1    151.55     7.7958   8.6625   7.75     7.6292   9.5875\n  86.5    108.9     26.      26.55    22.525   56.4958   7.75     8.05\n  26.2875  59.4      7.4958  34.0208  10.5     24.15    26.       7.8958\n  93.5      7.8958   7.225   57.9792   7.2292   7.75    10.5    221.7792\n   7.925   11.5     26.       7.2292   7.2292  22.3583   8.6625  26.25\n  26.55   106.425   14.5     49.5     71.      31.275   31.275   26.\n 106.425   26.      26.      13.8625  20.525   36.75   110.8833  26.\n   7.8292   7.225    7.775   26.55    39.6    227.525   79.65    17.4\n   7.75     7.8958  13.5      8.05     8.05    24.15     7.8958  21.075\n   7.2292   7.8542  10.5     51.4792  26.3875   7.75     8.05    14.5\n  13.      55.9     14.4583   7.925   30.     110.8833  26.      40.125\n   8.7125  79.65    15.      79.2      8.05     8.05     7.125   78.2667\n   7.25     7.75    26.      24.15    33.       0.       7.225   56.9292\n  27.       7.8958  42.4      8.05    26.55    15.55     7.8958  30.5\n  41.5792 153.4625  31.275    7.05    15.5      7.75     8.05    65.\n  14.4     16.1     39.      10.5     14.4542  52.5542  15.7417   7.8542\n  16.1     32.3208  12.35    77.9583   7.8958   7.7333  30.       7.0542\n  30.5      0.      27.9     13.       7.925   26.25    39.6875  16.1\n   7.8542  69.3     27.9     56.4958  19.2583  76.7292   7.8958  35.5\n   7.55     7.55     7.8958  23.       8.4333   7.8292   6.75    73.5\n   7.8958  15.5     13.     113.275  133.65     7.225   25.5875   7.4958\n   7.925   73.5     13.       7.775    8.05    52.      39.      52.\n  10.5     13.       0.       7.775    8.05     9.8417  46.9    512.3292\n   8.1375  76.7292   9.225   46.9     39.      41.5792  39.6875  10.1708\n   7.7958 211.3375  57.      13.4167  56.4958   7.225   26.55    13.5\n   8.05     7.7333 110.8833   7.65   227.525   26.2875  14.4542   7.7417\n   7.8542  26.      13.5     26.2875 151.55    15.2458  49.5042  26.55\n  52.       9.4833  13.       7.65   227.525   10.5     15.5      7.775\n  33.       7.0542  13.      13.      53.1      8.6625  21.       7.7375\n  26.       7.925  211.3375  18.7875   0.      13.      13.      16.1\n  34.375  512.3292   7.8958   7.8958  30.      78.85   262.375   16.1\n   7.925   71.      20.25    13.      53.1      7.75    23.      12.475\n   9.5      7.8958  65.      14.5      7.7958  11.5      8.05    86.5\n  14.5      7.125    7.2292 120.       7.775   77.9583  39.6      7.75\n  24.15     8.3625   9.5      7.8542  10.5      7.225   23.       7.75\n   7.75    12.475    7.7375 211.3375   7.2292  57.      30.      23.45\n   7.05     7.25     7.4958  29.125   20.575   79.2      7.75    26.\n  69.55    30.6958   7.8958  13.      25.9292   8.6833   7.2292  24.15\n  13.      26.25   120.       8.5167   6.975    7.775    0.       7.775\n  13.      53.1      7.8875  24.15    10.5     31.275    8.05     0.\n   7.925   37.0042   6.45    27.9     93.5      8.6625   0.      12.475\n  39.6875   6.95    56.4958  37.0042   7.75    80.      14.4542  18.75\n   7.2292   7.8542   8.3     83.1583   8.6625   8.05    56.4958  29.7\n   7.925   10.5     31.       6.4375   8.6625   7.55    69.55     7.8958\n  33.      89.1042  31.275    7.775   15.2458  39.4     26.       9.35\n 164.8667  26.55    19.2583   7.2292  14.1083  11.5     25.9292  69.55\n  13.      13.      13.8583  50.4958   9.5     11.1333   7.8958  52.5542\n   5.       9.      24.       7.225    9.8458   7.8958   7.8958  83.1583\n  26.       7.8958  10.5167  10.5      7.05    29.125   13.      30.\n  23.45    30.       7.75  ].\nReshape your data either using array.reshape(-1, 1) if your data has a single feature or array.reshape(1, -1) if it contains a single sample."
     ]
    }
   ],
   "source": [
    "train_df['Fare']=MinMaxScaler().fit_transform(train_df['Fare'])"
   ]
  },
  {
   "cell_type": "code",
   "execution_count": null,
   "metadata": {},
   "outputs": [],
   "source": []
  },
  {
   "cell_type": "code",
   "execution_count": null,
   "metadata": {},
   "outputs": [],
   "source": []
  },
  {
   "cell_type": "code",
   "execution_count": null,
   "metadata": {},
   "outputs": [],
   "source": []
  },
  {
   "cell_type": "code",
   "execution_count": null,
   "metadata": {},
   "outputs": [],
   "source": []
  }
 ],
 "metadata": {
  "kernelspec": {
   "display_name": "Python 3",
   "language": "python",
   "name": "python3"
  },
  "language_info": {
   "codemirror_mode": {
    "name": "ipython",
    "version": 3
   },
   "file_extension": ".py",
   "mimetype": "text/x-python",
   "name": "python",
   "nbconvert_exporter": "python",
   "pygments_lexer": "ipython3",
   "version": "3.7.0"
  }
 },
 "nbformat": 4,
 "nbformat_minor": 2
}
